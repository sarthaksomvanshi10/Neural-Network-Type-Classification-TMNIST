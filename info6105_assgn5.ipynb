{
  "cells": [
    {
      "cell_type": "markdown",
      "source": [
        "**ASSIGNMENT - Neural Network Type Classification | TMNIST**"
      ],
      "metadata": {
        "id": "CD4DZTRXzWLm"
      }
    },
    {
      "cell_type": "markdown",
      "metadata": {
        "id": "d2TzkAMfYnQp"
      },
      "source": [
        "**NEURAL NETWORK**"
      ]
    },
    {
      "cell_type": "markdown",
      "metadata": {
        "id": "ZEkFV89lrI3R"
      },
      "source": [
        "Training data is essential for neural networks to develop and enhance their accuracy over time. However, such algorithms for learning become effective tools in the fields of computing and machine learning once they are adjusted for accuracy, enabling us to quickly classify and cluster data."
      ]
    },
    {
      "cell_type": "markdown",
      "source": [
        "**DATASET USED** - https://www.kaggle.com/datasets/nimishmagre/tmnist-glyphs-1812-characters"
      ],
      "metadata": {
        "id": "ToTNKyMk2vlA"
      }
    },
    {
      "cell_type": "markdown",
      "metadata": {
        "id": "ueaVdhxVsX5r"
      },
      "source": [
        " **TMNIST GLYPHS**"
      ]
    },
    {
      "cell_type": "markdown",
      "metadata": {
        "id": "oUPzsm-6Rp1X"
      },
      "source": [
        "* A database of over 500,000 MNIST-style pictures made up of 1,812 unique glyphs and 2,990 font types is called **TMNIST (Typography MNIST) Glyphs.**\n",
        "* There is only one csv file in this repository.\n"
      ]
    },
    {
      "cell_type": "markdown",
      "metadata": {
        "id": "bTZbI_PQSDY9"
      },
      "source": [
        "The csv file is organized as follows:\n"
      ]
    },
    {
      "cell_type": "markdown",
      "metadata": {
        "id": "SiuOTMnCSEnF"
      },
      "source": [
        "* Column headers in the first row are ['fontname', 'glyphname', 'label','1', '2',.....'784'].\n",
        "* 'Acme-Regular' and 'ZillaSlab-Bold' are only a couple of the font file names in the 'font_name' column.\n",
        "* The unicodedata name for the glyph, such as \"LATIN CAPITAL LETTER A\" and \"DEVANAGARI LETTER AA,\" is found in the \"glyph_name\" column.\n",
        "* The 'glyphname' column provides the names of both characters, joined together with a '+' symbol, for glyphs that are represented by more than one unicode character. For instance, \"\" has the glyphname \"DEVANAGARI SIGN ANUSVARA + DEVANAGARI LETTER A\"\n",
        "* The \"label\" column includes letters like \",\" \"E,\" or \".\"\n",
        "* The following 784 columns have the grayscale pixel values for the image of the corresponding character in the font-style 'font_name'.\n",
        "* Over 500,000 photos make up this dataset, which is a component of the Warhol.ai Computational Creativity and Congnitive Type projects.\n"
      ]
    },
    {
      "cell_type": "code",
      "execution_count": null,
      "metadata": {
        "id": "_TlqmU5dNIaf"
      },
      "outputs": [],
      "source": [
        "# linear algebra\n",
        "import numpy as np\n",
        "# data processing\n",
        "import pandas as pd\n",
        "\n",
        "# Input data files are available in the read-only \"../input/\" directory\n",
        "# For example, running this (by clicking run or pressing Shift+Enter) will list all files under the input directory\n",
        "\n",
        "import os\n",
        "for dirname, _, filenames in os.walk('/kaggle/input'):\n",
        "    for filename in filenames:\n",
        "        print(os.path.join(dirname, filename))\n"
      ]
    },
    {
      "cell_type": "markdown",
      "metadata": {
        "id": "erh6lhpRY9Pm"
      },
      "source": [
        "**IMPORTING REQUIRED LIBRARIES**"
      ]
    },
    {
      "cell_type": "code",
      "execution_count": null,
      "metadata": {
        "id": "ckFr9AmCNJtE"
      },
      "outputs": [],
      "source": [
        "import numpy as np\n",
        "import pandas as pd\n",
        "import tensorflow as tf\n",
        "from tensorflow.keras.models import Sequential\n",
        "from tensorflow.keras.layers import Dense, Dropout, Flatten, Conv2D, MaxPooling2D\n",
        "from tensorflow.keras.callbacks import EarlyStopping\n",
        "from sklearn.metrics import roc_auc_score, accuracy_score"
      ]
    },
    {
      "cell_type": "code",
      "execution_count": null,
      "metadata": {
        "id": "pZl59rymN1lv"
      },
      "outputs": [],
      "source": [
        "#Reading a CSV File\n",
        "data = pd.read_csv(\"/Glyphs_TMNIST_updated.csv\")\n"
      ]
    },
    {
      "cell_type": "code",
      "execution_count": null,
      "metadata": {
        "colab": {
          "base_uri": "https://localhost:8080/",
          "height": 235
        },
        "id": "Al0HtL0SZGLI",
        "outputId": "8d59923b-2e81-4d92-a617-19f72adaadf2"
      },
      "outputs": [
        {
          "data": {
            "text/html": [
              "\n",
              "  <div id=\"df-34faad0f-f3b1-45af-8f4f-33c3a6c06e07\">\n",
              "    <div class=\"colab-df-container\">\n",
              "      <div>\n",
              "<style scoped>\n",
              "    .dataframe tbody tr th:only-of-type {\n",
              "        vertical-align: middle;\n",
              "    }\n",
              "\n",
              "    .dataframe tbody tr th {\n",
              "        vertical-align: top;\n",
              "    }\n",
              "\n",
              "    .dataframe thead th {\n",
              "        text-align: right;\n",
              "    }\n",
              "</style>\n",
              "<table border=\"1\" class=\"dataframe\">\n",
              "  <thead>\n",
              "    <tr style=\"text-align: right;\">\n",
              "      <th></th>\n",
              "      <th>font_name</th>\n",
              "      <th>glyph_name</th>\n",
              "      <th>label</th>\n",
              "      <th>1</th>\n",
              "      <th>2</th>\n",
              "      <th>3</th>\n",
              "      <th>4</th>\n",
              "      <th>5</th>\n",
              "      <th>6</th>\n",
              "      <th>7</th>\n",
              "      <th>...</th>\n",
              "      <th>775</th>\n",
              "      <th>776</th>\n",
              "      <th>777</th>\n",
              "      <th>778</th>\n",
              "      <th>779</th>\n",
              "      <th>780</th>\n",
              "      <th>781</th>\n",
              "      <th>782</th>\n",
              "      <th>783</th>\n",
              "      <th>784</th>\n",
              "    </tr>\n",
              "  </thead>\n",
              "  <tbody>\n",
              "    <tr>\n",
              "      <th>0</th>\n",
              "      <td>ABeeZee-Regular</td>\n",
              "      <td>LATIN CAPITAL LETTER A</td>\n",
              "      <td>A</td>\n",
              "      <td>0</td>\n",
              "      <td>0</td>\n",
              "      <td>0</td>\n",
              "      <td>0</td>\n",
              "      <td>0</td>\n",
              "      <td>0</td>\n",
              "      <td>0</td>\n",
              "      <td>...</td>\n",
              "      <td>0.0</td>\n",
              "      <td>0.0</td>\n",
              "      <td>0.0</td>\n",
              "      <td>0.0</td>\n",
              "      <td>0.0</td>\n",
              "      <td>0.0</td>\n",
              "      <td>0.0</td>\n",
              "      <td>0.0</td>\n",
              "      <td>0.0</td>\n",
              "      <td>0.0</td>\n",
              "    </tr>\n",
              "    <tr>\n",
              "      <th>1</th>\n",
              "      <td>ABeeZee-Regular</td>\n",
              "      <td>LATIN CAPITAL LETTER B</td>\n",
              "      <td>B</td>\n",
              "      <td>0</td>\n",
              "      <td>0</td>\n",
              "      <td>0</td>\n",
              "      <td>0</td>\n",
              "      <td>0</td>\n",
              "      <td>0</td>\n",
              "      <td>0</td>\n",
              "      <td>...</td>\n",
              "      <td>0.0</td>\n",
              "      <td>0.0</td>\n",
              "      <td>0.0</td>\n",
              "      <td>0.0</td>\n",
              "      <td>0.0</td>\n",
              "      <td>0.0</td>\n",
              "      <td>0.0</td>\n",
              "      <td>0.0</td>\n",
              "      <td>0.0</td>\n",
              "      <td>0.0</td>\n",
              "    </tr>\n",
              "    <tr>\n",
              "      <th>2</th>\n",
              "      <td>ABeeZee-Regular</td>\n",
              "      <td>LATIN CAPITAL LETTER C</td>\n",
              "      <td>C</td>\n",
              "      <td>0</td>\n",
              "      <td>0</td>\n",
              "      <td>0</td>\n",
              "      <td>0</td>\n",
              "      <td>0</td>\n",
              "      <td>0</td>\n",
              "      <td>0</td>\n",
              "      <td>...</td>\n",
              "      <td>0.0</td>\n",
              "      <td>0.0</td>\n",
              "      <td>0.0</td>\n",
              "      <td>0.0</td>\n",
              "      <td>0.0</td>\n",
              "      <td>0.0</td>\n",
              "      <td>0.0</td>\n",
              "      <td>0.0</td>\n",
              "      <td>0.0</td>\n",
              "      <td>0.0</td>\n",
              "    </tr>\n",
              "    <tr>\n",
              "      <th>3</th>\n",
              "      <td>ABeeZee-Regular</td>\n",
              "      <td>LATIN CAPITAL LETTER D</td>\n",
              "      <td>D</td>\n",
              "      <td>0</td>\n",
              "      <td>0</td>\n",
              "      <td>0</td>\n",
              "      <td>0</td>\n",
              "      <td>0</td>\n",
              "      <td>0</td>\n",
              "      <td>0</td>\n",
              "      <td>...</td>\n",
              "      <td>0.0</td>\n",
              "      <td>0.0</td>\n",
              "      <td>0.0</td>\n",
              "      <td>0.0</td>\n",
              "      <td>0.0</td>\n",
              "      <td>0.0</td>\n",
              "      <td>0.0</td>\n",
              "      <td>0.0</td>\n",
              "      <td>0.0</td>\n",
              "      <td>0.0</td>\n",
              "    </tr>\n",
              "    <tr>\n",
              "      <th>4</th>\n",
              "      <td>ABeeZee-Regular</td>\n",
              "      <td>LATIN CAPITAL LETTER E</td>\n",
              "      <td>E</td>\n",
              "      <td>0</td>\n",
              "      <td>0</td>\n",
              "      <td>0</td>\n",
              "      <td>0</td>\n",
              "      <td>0</td>\n",
              "      <td>0</td>\n",
              "      <td>0</td>\n",
              "      <td>...</td>\n",
              "      <td>0.0</td>\n",
              "      <td>0.0</td>\n",
              "      <td>0.0</td>\n",
              "      <td>0.0</td>\n",
              "      <td>0.0</td>\n",
              "      <td>0.0</td>\n",
              "      <td>0.0</td>\n",
              "      <td>0.0</td>\n",
              "      <td>0.0</td>\n",
              "      <td>0.0</td>\n",
              "    </tr>\n",
              "  </tbody>\n",
              "</table>\n",
              "<p>5 rows × 787 columns</p>\n",
              "</div>\n",
              "      <button class=\"colab-df-convert\" onclick=\"convertToInteractive('df-34faad0f-f3b1-45af-8f4f-33c3a6c06e07')\"\n",
              "              title=\"Convert this dataframe to an interactive table.\"\n",
              "              style=\"display:none;\">\n",
              "        \n",
              "  <svg xmlns=\"http://www.w3.org/2000/svg\" height=\"24px\"viewBox=\"0 0 24 24\"\n",
              "       width=\"24px\">\n",
              "    <path d=\"M0 0h24v24H0V0z\" fill=\"none\"/>\n",
              "    <path d=\"M18.56 5.44l.94 2.06.94-2.06 2.06-.94-2.06-.94-.94-2.06-.94 2.06-2.06.94zm-11 1L8.5 8.5l.94-2.06 2.06-.94-2.06-.94L8.5 2.5l-.94 2.06-2.06.94zm10 10l.94 2.06.94-2.06 2.06-.94-2.06-.94-.94-2.06-.94 2.06-2.06.94z\"/><path d=\"M17.41 7.96l-1.37-1.37c-.4-.4-.92-.59-1.43-.59-.52 0-1.04.2-1.43.59L10.3 9.45l-7.72 7.72c-.78.78-.78 2.05 0 2.83L4 21.41c.39.39.9.59 1.41.59.51 0 1.02-.2 1.41-.59l7.78-7.78 2.81-2.81c.8-.78.8-2.07 0-2.86zM5.41 20L4 18.59l7.72-7.72 1.47 1.35L5.41 20z\"/>\n",
              "  </svg>\n",
              "      </button>\n",
              "      \n",
              "  <style>\n",
              "    .colab-df-container {\n",
              "      display:flex;\n",
              "      flex-wrap:wrap;\n",
              "      gap: 12px;\n",
              "    }\n",
              "\n",
              "    .colab-df-convert {\n",
              "      background-color: #E8F0FE;\n",
              "      border: none;\n",
              "      border-radius: 50%;\n",
              "      cursor: pointer;\n",
              "      display: none;\n",
              "      fill: #1967D2;\n",
              "      height: 32px;\n",
              "      padding: 0 0 0 0;\n",
              "      width: 32px;\n",
              "    }\n",
              "\n",
              "    .colab-df-convert:hover {\n",
              "      background-color: #E2EBFA;\n",
              "      box-shadow: 0px 1px 2px rgba(60, 64, 67, 0.3), 0px 1px 3px 1px rgba(60, 64, 67, 0.15);\n",
              "      fill: #174EA6;\n",
              "    }\n",
              "\n",
              "    [theme=dark] .colab-df-convert {\n",
              "      background-color: #3B4455;\n",
              "      fill: #D2E3FC;\n",
              "    }\n",
              "\n",
              "    [theme=dark] .colab-df-convert:hover {\n",
              "      background-color: #434B5C;\n",
              "      box-shadow: 0px 1px 3px 1px rgba(0, 0, 0, 0.15);\n",
              "      filter: drop-shadow(0px 1px 2px rgba(0, 0, 0, 0.3));\n",
              "      fill: #FFFFFF;\n",
              "    }\n",
              "  </style>\n",
              "\n",
              "      <script>\n",
              "        const buttonEl =\n",
              "          document.querySelector('#df-34faad0f-f3b1-45af-8f4f-33c3a6c06e07 button.colab-df-convert');\n",
              "        buttonEl.style.display =\n",
              "          google.colab.kernel.accessAllowed ? 'block' : 'none';\n",
              "\n",
              "        async function convertToInteractive(key) {\n",
              "          const element = document.querySelector('#df-34faad0f-f3b1-45af-8f4f-33c3a6c06e07');\n",
              "          const dataTable =\n",
              "            await google.colab.kernel.invokeFunction('convertToInteractive',\n",
              "                                                     [key], {});\n",
              "          if (!dataTable) return;\n",
              "\n",
              "          const docLinkHtml = 'Like what you see? Visit the ' +\n",
              "            '<a target=\"_blank\" href=https://colab.research.google.com/notebooks/data_table.ipynb>data table notebook</a>'\n",
              "            + ' to learn more about interactive tables.';\n",
              "          element.innerHTML = '';\n",
              "          dataTable['output_type'] = 'display_data';\n",
              "          await google.colab.output.renderOutput(dataTable, element);\n",
              "          const docLink = document.createElement('div');\n",
              "          docLink.innerHTML = docLinkHtml;\n",
              "          element.appendChild(docLink);\n",
              "        }\n",
              "      </script>\n",
              "    </div>\n",
              "  </div>\n",
              "  "
            ],
            "text/plain": [
              "         font_name              glyph_name label  1  2  3  4  5  6  7  ...  \\\n",
              "0  ABeeZee-Regular  LATIN CAPITAL LETTER A     A  0  0  0  0  0  0  0  ...   \n",
              "1  ABeeZee-Regular  LATIN CAPITAL LETTER B     B  0  0  0  0  0  0  0  ...   \n",
              "2  ABeeZee-Regular  LATIN CAPITAL LETTER C     C  0  0  0  0  0  0  0  ...   \n",
              "3  ABeeZee-Regular  LATIN CAPITAL LETTER D     D  0  0  0  0  0  0  0  ...   \n",
              "4  ABeeZee-Regular  LATIN CAPITAL LETTER E     E  0  0  0  0  0  0  0  ...   \n",
              "\n",
              "   775  776  777  778  779  780  781  782  783  784  \n",
              "0  0.0  0.0  0.0  0.0  0.0  0.0  0.0  0.0  0.0  0.0  \n",
              "1  0.0  0.0  0.0  0.0  0.0  0.0  0.0  0.0  0.0  0.0  \n",
              "2  0.0  0.0  0.0  0.0  0.0  0.0  0.0  0.0  0.0  0.0  \n",
              "3  0.0  0.0  0.0  0.0  0.0  0.0  0.0  0.0  0.0  0.0  \n",
              "4  0.0  0.0  0.0  0.0  0.0  0.0  0.0  0.0  0.0  0.0  \n",
              "\n",
              "[5 rows x 787 columns]"
            ]
          },
          "execution_count": 32,
          "metadata": {},
          "output_type": "execute_result"
        }
      ],
      "source": [
        "data.head()"
      ]
    },
    {
      "cell_type": "code",
      "execution_count": null,
      "metadata": {
        "colab": {
          "base_uri": "https://localhost:8080/"
        },
        "id": "34RwIjQlOuHW",
        "outputId": "35375fc5-72a0-470f-8e6b-a83522639150"
      },
      "outputs": [
        {
          "name": "stdout",
          "output_type": "stream",
          "text": [
            "The Shape of the Dataframe is: (107757, 787)\n",
            "Number of Samples: 107757\n"
          ]
        }
      ],
      "source": [
        "# printing the shape of a dataframe\n",
        "#the number of samples in the dataframe.\n",
        "print(f\"The Shape of the Dataframe is: {data.shape}\")\n",
        "print(f\"Number of Samples: {data.shape[0]}\")"
      ]
    },
    {
      "cell_type": "markdown",
      "metadata": {
        "id": "yBBqQsc2eHO_"
      },
      "source": [
        "**CREATING A LIST OF ALPHANUMERIC CHARACTERS AND SYMBOLS, AND CALCULATING THE LENGTH OF THE LIST.**\n",
        "\n",
        "\n",
        "\n"
      ]
    },
    {
      "cell_type": "code",
      "execution_count": null,
      "metadata": {
        "colab": {
          "base_uri": "https://localhost:8080/"
        },
        "id": "uC7eR13JPCzg",
        "outputId": "07aa556e-b9c6-4718-ad2c-7e0639eacf8d"
      },
      "outputs": [
        {
          "data": {
            "text/plain": [
              "94"
            ]
          },
          "execution_count": 34,
          "metadata": {},
          "output_type": "execute_result"
        }
      ],
      "source": [
        "# Alphanumeric and Symbols List\n",
        "\n",
        "symbs = ['0', '1', '2', '3', '4', '5', '6', '7', '8', '9',\n",
        "         'A', 'B', 'C', 'D', 'E', 'F', 'G', 'H', 'I', 'J', 'K', 'L', 'M', 'N', 'O', 'P', 'Q', 'R', 'S', 'T', 'U', 'V', 'W', 'X', 'Y', 'Z',\n",
        "         'a', 'b', 'c', 'd', 'e', 'f', 'g', 'h', 'i', 'j', 'k', 'l', 'm', 'n', 'o', 'p', 'q', 'r', 's', 't', 'u', 'v', 'w', 'x', 'y', 'z',\n",
        "         '!', '\"', '#', '$', '%', '&', \"'\", '(', ')', '*', '+', ',', '-', '.', '/', ':', ';', '<', '=', '>', '?', '@','[',']','\\\\','^','_','`','{','}',\"|\",'~']\n",
        "\n",
        "len(symbs)"
      ]
    },
    {
      "cell_type": "markdown",
      "metadata": {
        "id": "Nw_EDhBhd-Ga"
      },
      "source": [
        "The code provided creates a list of alphanumeric characters and symbols, and calculates the length of the list using the len() function. The list contains 62 alphanumeric characters (digits and uppercase/lowercase letters) and 32 symbols, resulting in a total of 94 characters.\n"
      ]
    },
    {
      "cell_type": "code",
      "execution_count": null,
      "metadata": {
        "id": "p8D3P_yOPGZv"
      },
      "outputs": [],
      "source": [
        "M=list(range(len(symbs)))\n",
        "normal_mapping=dict(zip(symbs,M))\n",
        "reverse_mapping=dict(zip(M,symbs))"
      ]
    },
    {
      "cell_type": "markdown",
      "metadata": {
        "id": "sZJWpy9KeTKp"
      },
      "source": [
        "\n",
        "The **normal_mapping** dictionary is created to establish a mapping between the characters in the symbs list and their corresponding indices in another list, denoted as M, which is generated using the range(len(symbs)) function. This list M essentially represents the indices of the characters in the symbs list. The zip() function is then utilized to combine the elements of the symbs list and the M list into pairs of characters and their corresponding indices. Finally, the dict() function is applied to these pairs to create a dictionary (normal_mapping) where each character from the symbs list is mapped to its respective index in the M list.\n",
        "\n",
        "The **reverse_mapping** dictionary serves the opposite purpose. It aims to map the indices present in the M list to their corresponding characters in the symbs list. Similar to the normal_mapping dictionary, the zip() function is employed to combine the elements of the M list (representing indices) and the symbs list into pairs of indices and characters. Subsequently, the dict() function is used to construct a dictionary (reverse_mapping) where each index from the M list is mapped to its corresponding character in the symbs list."
      ]
    },
    {
      "cell_type": "markdown",
      "metadata": {
        "id": "KB5WsGuEeX2m"
      },
      "source": [
        "Both normal_mapping and reverse_mapping can be used for character-to-index and index-to-character mappings, respectively, for the characters in the symbs list."
      ]
    },
    {
      "cell_type": "markdown",
      "metadata": {
        "id": "t4UVegFWehnA"
      },
      "source": [
        "**FILTERING A DATAFRAME**"
      ]
    },
    {
      "cell_type": "code",
      "execution_count": null,
      "metadata": {
        "id": "vbuiHEVVPJRx"
      },
      "outputs": [],
      "source": [
        "data = data[data.label.isin(symbs)]"
      ]
    },
    {
      "cell_type": "code",
      "execution_count": null,
      "metadata": {
        "colab": {
          "base_uri": "https://localhost:8080/",
          "height": 423
        },
        "id": "hYD-sP8hPMbR",
        "outputId": "393c46e4-9ef9-44e1-83d9-4c34d53864eb"
      },
      "outputs": [
        {
          "data": {
            "text/html": [
              "\n",
              "  <div id=\"df-94712439-314b-4b56-a21b-4215477357fa\">\n",
              "    <div class=\"colab-df-container\">\n",
              "      <div>\n",
              "<style scoped>\n",
              "    .dataframe tbody tr th:only-of-type {\n",
              "        vertical-align: middle;\n",
              "    }\n",
              "\n",
              "    .dataframe tbody tr th {\n",
              "        vertical-align: top;\n",
              "    }\n",
              "\n",
              "    .dataframe thead th {\n",
              "        text-align: right;\n",
              "    }\n",
              "</style>\n",
              "<table border=\"1\" class=\"dataframe\">\n",
              "  <thead>\n",
              "    <tr style=\"text-align: right;\">\n",
              "      <th></th>\n",
              "      <th>count</th>\n",
              "      <th>mean</th>\n",
              "      <th>std</th>\n",
              "      <th>min</th>\n",
              "      <th>25%</th>\n",
              "      <th>50%</th>\n",
              "      <th>75%</th>\n",
              "      <th>max</th>\n",
              "    </tr>\n",
              "  </thead>\n",
              "  <tbody>\n",
              "    <tr>\n",
              "      <th>1</th>\n",
              "      <td>60919.0</td>\n",
              "      <td>0.000000</td>\n",
              "      <td>0.000000</td>\n",
              "      <td>0.0</td>\n",
              "      <td>0.0</td>\n",
              "      <td>0.0</td>\n",
              "      <td>0.0</td>\n",
              "      <td>0.0</td>\n",
              "    </tr>\n",
              "    <tr>\n",
              "      <th>2</th>\n",
              "      <td>60919.0</td>\n",
              "      <td>0.000000</td>\n",
              "      <td>0.000000</td>\n",
              "      <td>0.0</td>\n",
              "      <td>0.0</td>\n",
              "      <td>0.0</td>\n",
              "      <td>0.0</td>\n",
              "      <td>0.0</td>\n",
              "    </tr>\n",
              "    <tr>\n",
              "      <th>3</th>\n",
              "      <td>60919.0</td>\n",
              "      <td>0.000000</td>\n",
              "      <td>0.000000</td>\n",
              "      <td>0.0</td>\n",
              "      <td>0.0</td>\n",
              "      <td>0.0</td>\n",
              "      <td>0.0</td>\n",
              "      <td>0.0</td>\n",
              "    </tr>\n",
              "    <tr>\n",
              "      <th>4</th>\n",
              "      <td>60919.0</td>\n",
              "      <td>0.000000</td>\n",
              "      <td>0.000000</td>\n",
              "      <td>0.0</td>\n",
              "      <td>0.0</td>\n",
              "      <td>0.0</td>\n",
              "      <td>0.0</td>\n",
              "      <td>0.0</td>\n",
              "    </tr>\n",
              "    <tr>\n",
              "      <th>5</th>\n",
              "      <td>60919.0</td>\n",
              "      <td>0.000000</td>\n",
              "      <td>0.000000</td>\n",
              "      <td>0.0</td>\n",
              "      <td>0.0</td>\n",
              "      <td>0.0</td>\n",
              "      <td>0.0</td>\n",
              "      <td>0.0</td>\n",
              "    </tr>\n",
              "    <tr>\n",
              "      <th>...</th>\n",
              "      <td>...</td>\n",
              "      <td>...</td>\n",
              "      <td>...</td>\n",
              "      <td>...</td>\n",
              "      <td>...</td>\n",
              "      <td>...</td>\n",
              "      <td>...</td>\n",
              "      <td>...</td>\n",
              "    </tr>\n",
              "    <tr>\n",
              "      <th>780</th>\n",
              "      <td>60919.0</td>\n",
              "      <td>0.000427</td>\n",
              "      <td>0.082038</td>\n",
              "      <td>0.0</td>\n",
              "      <td>0.0</td>\n",
              "      <td>0.0</td>\n",
              "      <td>0.0</td>\n",
              "      <td>19.0</td>\n",
              "    </tr>\n",
              "    <tr>\n",
              "      <th>781</th>\n",
              "      <td>60919.0</td>\n",
              "      <td>0.000312</td>\n",
              "      <td>0.076980</td>\n",
              "      <td>0.0</td>\n",
              "      <td>0.0</td>\n",
              "      <td>0.0</td>\n",
              "      <td>0.0</td>\n",
              "      <td>19.0</td>\n",
              "    </tr>\n",
              "    <tr>\n",
              "      <th>782</th>\n",
              "      <td>60919.0</td>\n",
              "      <td>0.000000</td>\n",
              "      <td>0.000000</td>\n",
              "      <td>0.0</td>\n",
              "      <td>0.0</td>\n",
              "      <td>0.0</td>\n",
              "      <td>0.0</td>\n",
              "      <td>0.0</td>\n",
              "    </tr>\n",
              "    <tr>\n",
              "      <th>783</th>\n",
              "      <td>60919.0</td>\n",
              "      <td>0.000000</td>\n",
              "      <td>0.000000</td>\n",
              "      <td>0.0</td>\n",
              "      <td>0.0</td>\n",
              "      <td>0.0</td>\n",
              "      <td>0.0</td>\n",
              "      <td>0.0</td>\n",
              "    </tr>\n",
              "    <tr>\n",
              "      <th>784</th>\n",
              "      <td>60919.0</td>\n",
              "      <td>0.000000</td>\n",
              "      <td>0.000000</td>\n",
              "      <td>0.0</td>\n",
              "      <td>0.0</td>\n",
              "      <td>0.0</td>\n",
              "      <td>0.0</td>\n",
              "      <td>0.0</td>\n",
              "    </tr>\n",
              "  </tbody>\n",
              "</table>\n",
              "<p>784 rows × 8 columns</p>\n",
              "</div>\n",
              "      <button class=\"colab-df-convert\" onclick=\"convertToInteractive('df-94712439-314b-4b56-a21b-4215477357fa')\"\n",
              "              title=\"Convert this dataframe to an interactive table.\"\n",
              "              style=\"display:none;\">\n",
              "        \n",
              "  <svg xmlns=\"http://www.w3.org/2000/svg\" height=\"24px\"viewBox=\"0 0 24 24\"\n",
              "       width=\"24px\">\n",
              "    <path d=\"M0 0h24v24H0V0z\" fill=\"none\"/>\n",
              "    <path d=\"M18.56 5.44l.94 2.06.94-2.06 2.06-.94-2.06-.94-.94-2.06-.94 2.06-2.06.94zm-11 1L8.5 8.5l.94-2.06 2.06-.94-2.06-.94L8.5 2.5l-.94 2.06-2.06.94zm10 10l.94 2.06.94-2.06 2.06-.94-2.06-.94-.94-2.06-.94 2.06-2.06.94z\"/><path d=\"M17.41 7.96l-1.37-1.37c-.4-.4-.92-.59-1.43-.59-.52 0-1.04.2-1.43.59L10.3 9.45l-7.72 7.72c-.78.78-.78 2.05 0 2.83L4 21.41c.39.39.9.59 1.41.59.51 0 1.02-.2 1.41-.59l7.78-7.78 2.81-2.81c.8-.78.8-2.07 0-2.86zM5.41 20L4 18.59l7.72-7.72 1.47 1.35L5.41 20z\"/>\n",
              "  </svg>\n",
              "      </button>\n",
              "      \n",
              "  <style>\n",
              "    .colab-df-container {\n",
              "      display:flex;\n",
              "      flex-wrap:wrap;\n",
              "      gap: 12px;\n",
              "    }\n",
              "\n",
              "    .colab-df-convert {\n",
              "      background-color: #E8F0FE;\n",
              "      border: none;\n",
              "      border-radius: 50%;\n",
              "      cursor: pointer;\n",
              "      display: none;\n",
              "      fill: #1967D2;\n",
              "      height: 32px;\n",
              "      padding: 0 0 0 0;\n",
              "      width: 32px;\n",
              "    }\n",
              "\n",
              "    .colab-df-convert:hover {\n",
              "      background-color: #E2EBFA;\n",
              "      box-shadow: 0px 1px 2px rgba(60, 64, 67, 0.3), 0px 1px 3px 1px rgba(60, 64, 67, 0.15);\n",
              "      fill: #174EA6;\n",
              "    }\n",
              "\n",
              "    [theme=dark] .colab-df-convert {\n",
              "      background-color: #3B4455;\n",
              "      fill: #D2E3FC;\n",
              "    }\n",
              "\n",
              "    [theme=dark] .colab-df-convert:hover {\n",
              "      background-color: #434B5C;\n",
              "      box-shadow: 0px 1px 3px 1px rgba(0, 0, 0, 0.15);\n",
              "      filter: drop-shadow(0px 1px 2px rgba(0, 0, 0, 0.3));\n",
              "      fill: #FFFFFF;\n",
              "    }\n",
              "  </style>\n",
              "\n",
              "      <script>\n",
              "        const buttonEl =\n",
              "          document.querySelector('#df-94712439-314b-4b56-a21b-4215477357fa button.colab-df-convert');\n",
              "        buttonEl.style.display =\n",
              "          google.colab.kernel.accessAllowed ? 'block' : 'none';\n",
              "\n",
              "        async function convertToInteractive(key) {\n",
              "          const element = document.querySelector('#df-94712439-314b-4b56-a21b-4215477357fa');\n",
              "          const dataTable =\n",
              "            await google.colab.kernel.invokeFunction('convertToInteractive',\n",
              "                                                     [key], {});\n",
              "          if (!dataTable) return;\n",
              "\n",
              "          const docLinkHtml = 'Like what you see? Visit the ' +\n",
              "            '<a target=\"_blank\" href=https://colab.research.google.com/notebooks/data_table.ipynb>data table notebook</a>'\n",
              "            + ' to learn more about interactive tables.';\n",
              "          element.innerHTML = '';\n",
              "          dataTable['output_type'] = 'display_data';\n",
              "          await google.colab.output.renderOutput(dataTable, element);\n",
              "          const docLink = document.createElement('div');\n",
              "          docLink.innerHTML = docLinkHtml;\n",
              "          element.appendChild(docLink);\n",
              "        }\n",
              "      </script>\n",
              "    </div>\n",
              "  </div>\n",
              "  "
            ],
            "text/plain": [
              "       count      mean       std  min  25%  50%  75%   max\n",
              "1    60919.0  0.000000  0.000000  0.0  0.0  0.0  0.0   0.0\n",
              "2    60919.0  0.000000  0.000000  0.0  0.0  0.0  0.0   0.0\n",
              "3    60919.0  0.000000  0.000000  0.0  0.0  0.0  0.0   0.0\n",
              "4    60919.0  0.000000  0.000000  0.0  0.0  0.0  0.0   0.0\n",
              "5    60919.0  0.000000  0.000000  0.0  0.0  0.0  0.0   0.0\n",
              "..       ...       ...       ...  ...  ...  ...  ...   ...\n",
              "780  60919.0  0.000427  0.082038  0.0  0.0  0.0  0.0  19.0\n",
              "781  60919.0  0.000312  0.076980  0.0  0.0  0.0  0.0  19.0\n",
              "782  60919.0  0.000000  0.000000  0.0  0.0  0.0  0.0   0.0\n",
              "783  60919.0  0.000000  0.000000  0.0  0.0  0.0  0.0   0.0\n",
              "784  60919.0  0.000000  0.000000  0.0  0.0  0.0  0.0   0.0\n",
              "\n",
              "[784 rows x 8 columns]"
            ]
          },
          "execution_count": 37,
          "metadata": {},
          "output_type": "execute_result"
        }
      ],
      "source": [
        "data.describe().T"
      ]
    },
    {
      "cell_type": "code",
      "execution_count": null,
      "metadata": {
        "colab": {
          "base_uri": "https://localhost:8080/"
        },
        "id": "gvweQdYwPQ-t",
        "outputId": "607a9f14-a474-4d5a-b90e-f8ab48c44d04"
      },
      "outputs": [
        {
          "name": "stdout",
          "output_type": "stream",
          "text": [
            "<class 'pandas.core.frame.DataFrame'>\n",
            "Int64Index: 60919 entries, 0 to 107656\n",
            "Data columns (total 787 columns):\n",
            " #    Column      Dtype  \n",
            "---   ------      -----  \n",
            " 0    font_name   object \n",
            " 1    glyph_name  object \n",
            " 2    label       object \n",
            " 3    1           int64  \n",
            " 4    2           int64  \n",
            " 5    3           int64  \n",
            " 6    4           int64  \n",
            " 7    5           int64  \n",
            " 8    6           int64  \n",
            " 9    7           int64  \n",
            " 10   8           int64  \n",
            " 11   9           int64  \n",
            " 12   10          int64  \n",
            " 13   11          int64  \n",
            " 14   12          int64  \n",
            " 15   13          int64  \n",
            " 16   14          int64  \n",
            " 17   15          int64  \n",
            " 18   16          int64  \n",
            " 19   17          int64  \n",
            " 20   18          int64  \n",
            " 21   19          int64  \n",
            " 22   20          int64  \n",
            " 23   21          int64  \n",
            " 24   22          int64  \n",
            " 25   23          int64  \n",
            " 26   24          int64  \n",
            " 27   25          int64  \n",
            " 28   26          int64  \n",
            " 29   27          int64  \n",
            " 30   28          int64  \n",
            " 31   29          int64  \n",
            " 32   30          int64  \n",
            " 33   31          int64  \n",
            " 34   32          int64  \n",
            " 35   33          int64  \n",
            " 36   34          int64  \n",
            " 37   35          int64  \n",
            " 38   36          int64  \n",
            " 39   37          int64  \n",
            " 40   38          int64  \n",
            " 41   39          int64  \n",
            " 42   40          int64  \n",
            " 43   41          int64  \n",
            " 44   42          int64  \n",
            " 45   43          int64  \n",
            " 46   44          int64  \n",
            " 47   45          int64  \n",
            " 48   46          int64  \n",
            " 49   47          int64  \n",
            " 50   48          int64  \n",
            " 51   49          int64  \n",
            " 52   50          int64  \n",
            " 53   51          int64  \n",
            " 54   52          int64  \n",
            " 55   53          int64  \n",
            " 56   54          int64  \n",
            " 57   55          int64  \n",
            " 58   56          int64  \n",
            " 59   57          int64  \n",
            " 60   58          int64  \n",
            " 61   59          int64  \n",
            " 62   60          int64  \n",
            " 63   61          int64  \n",
            " 64   62          int64  \n",
            " 65   63          int64  \n",
            " 66   64          int64  \n",
            " 67   65          int64  \n",
            " 68   66          int64  \n",
            " 69   67          int64  \n",
            " 70   68          int64  \n",
            " 71   69          int64  \n",
            " 72   70          int64  \n",
            " 73   71          int64  \n",
            " 74   72          int64  \n",
            " 75   73          int64  \n",
            " 76   74          int64  \n",
            " 77   75          int64  \n",
            " 78   76          int64  \n",
            " 79   77          int64  \n",
            " 80   78          int64  \n",
            " 81   79          int64  \n",
            " 82   80          int64  \n",
            " 83   81          int64  \n",
            " 84   82          int64  \n",
            " 85   83          int64  \n",
            " 86   84          int64  \n",
            " 87   85          int64  \n",
            " 88   86          int64  \n",
            " 89   87          int64  \n",
            " 90   88          int64  \n",
            " 91   89          int64  \n",
            " 92   90          int64  \n",
            " 93   91          int64  \n",
            " 94   92          int64  \n",
            " 95   93          int64  \n",
            " 96   94          int64  \n",
            " 97   95          int64  \n",
            " 98   96          int64  \n",
            " 99   97          int64  \n",
            " 100  98          int64  \n",
            " 101  99          int64  \n",
            " 102  100         int64  \n",
            " 103  101         int64  \n",
            " 104  102         int64  \n",
            " 105  103         int64  \n",
            " 106  104         int64  \n",
            " 107  105         int64  \n",
            " 108  106         int64  \n",
            " 109  107         int64  \n",
            " 110  108         int64  \n",
            " 111  109         int64  \n",
            " 112  110         int64  \n",
            " 113  111         int64  \n",
            " 114  112         int64  \n",
            " 115  113         int64  \n",
            " 116  114         int64  \n",
            " 117  115         int64  \n",
            " 118  116         int64  \n",
            " 119  117         int64  \n",
            " 120  118         int64  \n",
            " 121  119         int64  \n",
            " 122  120         int64  \n",
            " 123  121         int64  \n",
            " 124  122         int64  \n",
            " 125  123         int64  \n",
            " 126  124         int64  \n",
            " 127  125         int64  \n",
            " 128  126         int64  \n",
            " 129  127         int64  \n",
            " 130  128         int64  \n",
            " 131  129         int64  \n",
            " 132  130         int64  \n",
            " 133  131         int64  \n",
            " 134  132         int64  \n",
            " 135  133         int64  \n",
            " 136  134         int64  \n",
            " 137  135         int64  \n",
            " 138  136         int64  \n",
            " 139  137         int64  \n",
            " 140  138         int64  \n",
            " 141  139         int64  \n",
            " 142  140         int64  \n",
            " 143  141         int64  \n",
            " 144  142         int64  \n",
            " 145  143         int64  \n",
            " 146  144         int64  \n",
            " 147  145         int64  \n",
            " 148  146         int64  \n",
            " 149  147         int64  \n",
            " 150  148         int64  \n",
            " 151  149         int64  \n",
            " 152  150         int64  \n",
            " 153  151         int64  \n",
            " 154  152         int64  \n",
            " 155  153         int64  \n",
            " 156  154         int64  \n",
            " 157  155         int64  \n",
            " 158  156         int64  \n",
            " 159  157         int64  \n",
            " 160  158         int64  \n",
            " 161  159         int64  \n",
            " 162  160         int64  \n",
            " 163  161         int64  \n",
            " 164  162         int64  \n",
            " 165  163         int64  \n",
            " 166  164         int64  \n",
            " 167  165         int64  \n",
            " 168  166         int64  \n",
            " 169  167         int64  \n",
            " 170  168         int64  \n",
            " 171  169         int64  \n",
            " 172  170         int64  \n",
            " 173  171         int64  \n",
            " 174  172         int64  \n",
            " 175  173         int64  \n",
            " 176  174         int64  \n",
            " 177  175         int64  \n",
            " 178  176         int64  \n",
            " 179  177         int64  \n",
            " 180  178         int64  \n",
            " 181  179         int64  \n",
            " 182  180         int64  \n",
            " 183  181         int64  \n",
            " 184  182         int64  \n",
            " 185  183         int64  \n",
            " 186  184         int64  \n",
            " 187  185         int64  \n",
            " 188  186         int64  \n",
            " 189  187         int64  \n",
            " 190  188         int64  \n",
            " 191  189         int64  \n",
            " 192  190         int64  \n",
            " 193  191         int64  \n",
            " 194  192         int64  \n",
            " 195  193         int64  \n",
            " 196  194         int64  \n",
            " 197  195         int64  \n",
            " 198  196         int64  \n",
            " 199  197         int64  \n",
            " 200  198         int64  \n",
            " 201  199         int64  \n",
            " 202  200         int64  \n",
            " 203  201         int64  \n",
            " 204  202         int64  \n",
            " 205  203         int64  \n",
            " 206  204         int64  \n",
            " 207  205         int64  \n",
            " 208  206         int64  \n",
            " 209  207         int64  \n",
            " 210  208         int64  \n",
            " 211  209         int64  \n",
            " 212  210         int64  \n",
            " 213  211         int64  \n",
            " 214  212         int64  \n",
            " 215  213         int64  \n",
            " 216  214         int64  \n",
            " 217  215         int64  \n",
            " 218  216         int64  \n",
            " 219  217         int64  \n",
            " 220  218         int64  \n",
            " 221  219         int64  \n",
            " 222  220         int64  \n",
            " 223  221         int64  \n",
            " 224  222         int64  \n",
            " 225  223         int64  \n",
            " 226  224         int64  \n",
            " 227  225         int64  \n",
            " 228  226         int64  \n",
            " 229  227         int64  \n",
            " 230  228         int64  \n",
            " 231  229         int64  \n",
            " 232  230         int64  \n",
            " 233  231         int64  \n",
            " 234  232         int64  \n",
            " 235  233         int64  \n",
            " 236  234         int64  \n",
            " 237  235         int64  \n",
            " 238  236         int64  \n",
            " 239  237         int64  \n",
            " 240  238         int64  \n",
            " 241  239         int64  \n",
            " 242  240         int64  \n",
            " 243  241         int64  \n",
            " 244  242         int64  \n",
            " 245  243         int64  \n",
            " 246  244         int64  \n",
            " 247  245         int64  \n",
            " 248  246         int64  \n",
            " 249  247         int64  \n",
            " 250  248         int64  \n",
            " 251  249         int64  \n",
            " 252  250         int64  \n",
            " 253  251         int64  \n",
            " 254  252         int64  \n",
            " 255  253         int64  \n",
            " 256  254         int64  \n",
            " 257  255         int64  \n",
            " 258  256         int64  \n",
            " 259  257         int64  \n",
            " 260  258         int64  \n",
            " 261  259         int64  \n",
            " 262  260         int64  \n",
            " 263  261         int64  \n",
            " 264  262         int64  \n",
            " 265  263         int64  \n",
            " 266  264         int64  \n",
            " 267  265         int64  \n",
            " 268  266         int64  \n",
            " 269  267         int64  \n",
            " 270  268         int64  \n",
            " 271  269         int64  \n",
            " 272  270         int64  \n",
            " 273  271         int64  \n",
            " 274  272         int64  \n",
            " 275  273         int64  \n",
            " 276  274         int64  \n",
            " 277  275         int64  \n",
            " 278  276         int64  \n",
            " 279  277         int64  \n",
            " 280  278         int64  \n",
            " 281  279         int64  \n",
            " 282  280         int64  \n",
            " 283  281         int64  \n",
            " 284  282         int64  \n",
            " 285  283         int64  \n",
            " 286  284         int64  \n",
            " 287  285         int64  \n",
            " 288  286         int64  \n",
            " 289  287         int64  \n",
            " 290  288         int64  \n",
            " 291  289         int64  \n",
            " 292  290         int64  \n",
            " 293  291         int64  \n",
            " 294  292         int64  \n",
            " 295  293         int64  \n",
            " 296  294         int64  \n",
            " 297  295         int64  \n",
            " 298  296         int64  \n",
            " 299  297         int64  \n",
            " 300  298         int64  \n",
            " 301  299         int64  \n",
            " 302  300         int64  \n",
            " 303  301         int64  \n",
            " 304  302         int64  \n",
            " 305  303         int64  \n",
            " 306  304         int64  \n",
            " 307  305         int64  \n",
            " 308  306         int64  \n",
            " 309  307         int64  \n",
            " 310  308         int64  \n",
            " 311  309         int64  \n",
            " 312  310         int64  \n",
            " 313  311         int64  \n",
            " 314  312         int64  \n",
            " 315  313         int64  \n",
            " 316  314         int64  \n",
            " 317  315         int64  \n",
            " 318  316         int64  \n",
            " 319  317         int64  \n",
            " 320  318         int64  \n",
            " 321  319         int64  \n",
            " 322  320         int64  \n",
            " 323  321         int64  \n",
            " 324  322         int64  \n",
            " 325  323         int64  \n",
            " 326  324         int64  \n",
            " 327  325         int64  \n",
            " 328  326         int64  \n",
            " 329  327         int64  \n",
            " 330  328         int64  \n",
            " 331  329         int64  \n",
            " 332  330         int64  \n",
            " 333  331         int64  \n",
            " 334  332         int64  \n",
            " 335  333         int64  \n",
            " 336  334         int64  \n",
            " 337  335         int64  \n",
            " 338  336         int64  \n",
            " 339  337         int64  \n",
            " 340  338         int64  \n",
            " 341  339         int64  \n",
            " 342  340         int64  \n",
            " 343  341         int64  \n",
            " 344  342         int64  \n",
            " 345  343         int64  \n",
            " 346  344         int64  \n",
            " 347  345         float64\n",
            " 348  346         float64\n",
            " 349  347         float64\n",
            " 350  348         float64\n",
            " 351  349         float64\n",
            " 352  350         float64\n",
            " 353  351         float64\n",
            " 354  352         float64\n",
            " 355  353         float64\n",
            " 356  354         float64\n",
            " 357  355         float64\n",
            " 358  356         float64\n",
            " 359  357         float64\n",
            " 360  358         float64\n",
            " 361  359         float64\n",
            " 362  360         float64\n",
            " 363  361         float64\n",
            " 364  362         float64\n",
            " 365  363         float64\n",
            " 366  364         float64\n",
            " 367  365         float64\n",
            " 368  366         float64\n",
            " 369  367         float64\n",
            " 370  368         float64\n",
            " 371  369         float64\n",
            " 372  370         float64\n",
            " 373  371         float64\n",
            " 374  372         float64\n",
            " 375  373         float64\n",
            " 376  374         float64\n",
            " 377  375         float64\n",
            " 378  376         float64\n",
            " 379  377         float64\n",
            " 380  378         float64\n",
            " 381  379         float64\n",
            " 382  380         float64\n",
            " 383  381         float64\n",
            " 384  382         float64\n",
            " 385  383         float64\n",
            " 386  384         float64\n",
            " 387  385         float64\n",
            " 388  386         float64\n",
            " 389  387         float64\n",
            " 390  388         float64\n",
            " 391  389         float64\n",
            " 392  390         float64\n",
            " 393  391         float64\n",
            " 394  392         float64\n",
            " 395  393         float64\n",
            " 396  394         float64\n",
            " 397  395         float64\n",
            " 398  396         float64\n",
            " 399  397         float64\n",
            " 400  398         float64\n",
            " 401  399         float64\n",
            " 402  400         float64\n",
            " 403  401         float64\n",
            " 404  402         float64\n",
            " 405  403         float64\n",
            " 406  404         float64\n",
            " 407  405         float64\n",
            " 408  406         float64\n",
            " 409  407         float64\n",
            " 410  408         float64\n",
            " 411  409         float64\n",
            " 412  410         float64\n",
            " 413  411         float64\n",
            " 414  412         float64\n",
            " 415  413         float64\n",
            " 416  414         float64\n",
            " 417  415         float64\n",
            " 418  416         float64\n",
            " 419  417         float64\n",
            " 420  418         float64\n",
            " 421  419         float64\n",
            " 422  420         float64\n",
            " 423  421         float64\n",
            " 424  422         float64\n",
            " 425  423         float64\n",
            " 426  424         float64\n",
            " 427  425         float64\n",
            " 428  426         float64\n",
            " 429  427         float64\n",
            " 430  428         float64\n",
            " 431  429         float64\n",
            " 432  430         float64\n",
            " 433  431         float64\n",
            " 434  432         float64\n",
            " 435  433         float64\n",
            " 436  434         float64\n",
            " 437  435         float64\n",
            " 438  436         float64\n",
            " 439  437         float64\n",
            " 440  438         float64\n",
            " 441  439         float64\n",
            " 442  440         float64\n",
            " 443  441         float64\n",
            " 444  442         float64\n",
            " 445  443         float64\n",
            " 446  444         float64\n",
            " 447  445         float64\n",
            " 448  446         float64\n",
            " 449  447         float64\n",
            " 450  448         float64\n",
            " 451  449         float64\n",
            " 452  450         float64\n",
            " 453  451         float64\n",
            " 454  452         float64\n",
            " 455  453         float64\n",
            " 456  454         float64\n",
            " 457  455         float64\n",
            " 458  456         float64\n",
            " 459  457         float64\n",
            " 460  458         float64\n",
            " 461  459         float64\n",
            " 462  460         float64\n",
            " 463  461         float64\n",
            " 464  462         float64\n",
            " 465  463         float64\n",
            " 466  464         float64\n",
            " 467  465         float64\n",
            " 468  466         float64\n",
            " 469  467         float64\n",
            " 470  468         float64\n",
            " 471  469         float64\n",
            " 472  470         float64\n",
            " 473  471         float64\n",
            " 474  472         float64\n",
            " 475  473         float64\n",
            " 476  474         float64\n",
            " 477  475         float64\n",
            " 478  476         float64\n",
            " 479  477         float64\n",
            " 480  478         float64\n",
            " 481  479         float64\n",
            " 482  480         float64\n",
            " 483  481         float64\n",
            " 484  482         float64\n",
            " 485  483         float64\n",
            " 486  484         float64\n",
            " 487  485         float64\n",
            " 488  486         float64\n",
            " 489  487         float64\n",
            " 490  488         float64\n",
            " 491  489         float64\n",
            " 492  490         float64\n",
            " 493  491         float64\n",
            " 494  492         float64\n",
            " 495  493         float64\n",
            " 496  494         float64\n",
            " 497  495         float64\n",
            " 498  496         float64\n",
            " 499  497         float64\n",
            " 500  498         float64\n",
            " 501  499         float64\n",
            " 502  500         float64\n",
            " 503  501         float64\n",
            " 504  502         float64\n",
            " 505  503         float64\n",
            " 506  504         float64\n",
            " 507  505         float64\n",
            " 508  506         float64\n",
            " 509  507         float64\n",
            " 510  508         float64\n",
            " 511  509         float64\n",
            " 512  510         float64\n",
            " 513  511         float64\n",
            " 514  512         float64\n",
            " 515  513         float64\n",
            " 516  514         float64\n",
            " 517  515         float64\n",
            " 518  516         float64\n",
            " 519  517         float64\n",
            " 520  518         float64\n",
            " 521  519         float64\n",
            " 522  520         float64\n",
            " 523  521         float64\n",
            " 524  522         float64\n",
            " 525  523         float64\n",
            " 526  524         float64\n",
            " 527  525         float64\n",
            " 528  526         float64\n",
            " 529  527         float64\n",
            " 530  528         float64\n",
            " 531  529         float64\n",
            " 532  530         float64\n",
            " 533  531         float64\n",
            " 534  532         float64\n",
            " 535  533         float64\n",
            " 536  534         float64\n",
            " 537  535         float64\n",
            " 538  536         float64\n",
            " 539  537         float64\n",
            " 540  538         float64\n",
            " 541  539         float64\n",
            " 542  540         float64\n",
            " 543  541         float64\n",
            " 544  542         float64\n",
            " 545  543         float64\n",
            " 546  544         float64\n",
            " 547  545         float64\n",
            " 548  546         float64\n",
            " 549  547         float64\n",
            " 550  548         float64\n",
            " 551  549         float64\n",
            " 552  550         float64\n",
            " 553  551         float64\n",
            " 554  552         float64\n",
            " 555  553         float64\n",
            " 556  554         float64\n",
            " 557  555         float64\n",
            " 558  556         float64\n",
            " 559  557         float64\n",
            " 560  558         float64\n",
            " 561  559         float64\n",
            " 562  560         float64\n",
            " 563  561         float64\n",
            " 564  562         float64\n",
            " 565  563         float64\n",
            " 566  564         float64\n",
            " 567  565         float64\n",
            " 568  566         float64\n",
            " 569  567         float64\n",
            " 570  568         float64\n",
            " 571  569         float64\n",
            " 572  570         float64\n",
            " 573  571         float64\n",
            " 574  572         float64\n",
            " 575  573         float64\n",
            " 576  574         float64\n",
            " 577  575         float64\n",
            " 578  576         float64\n",
            " 579  577         float64\n",
            " 580  578         float64\n",
            " 581  579         float64\n",
            " 582  580         float64\n",
            " 583  581         float64\n",
            " 584  582         float64\n",
            " 585  583         float64\n",
            " 586  584         float64\n",
            " 587  585         float64\n",
            " 588  586         float64\n",
            " 589  587         float64\n",
            " 590  588         float64\n",
            " 591  589         float64\n",
            " 592  590         float64\n",
            " 593  591         float64\n",
            " 594  592         float64\n",
            " 595  593         float64\n",
            " 596  594         float64\n",
            " 597  595         float64\n",
            " 598  596         float64\n",
            " 599  597         float64\n",
            " 600  598         float64\n",
            " 601  599         float64\n",
            " 602  600         float64\n",
            " 603  601         float64\n",
            " 604  602         float64\n",
            " 605  603         float64\n",
            " 606  604         float64\n",
            " 607  605         float64\n",
            " 608  606         float64\n",
            " 609  607         float64\n",
            " 610  608         float64\n",
            " 611  609         float64\n",
            " 612  610         float64\n",
            " 613  611         float64\n",
            " 614  612         float64\n",
            " 615  613         float64\n",
            " 616  614         float64\n",
            " 617  615         float64\n",
            " 618  616         float64\n",
            " 619  617         float64\n",
            " 620  618         float64\n",
            " 621  619         float64\n",
            " 622  620         float64\n",
            " 623  621         float64\n",
            " 624  622         float64\n",
            " 625  623         float64\n",
            " 626  624         float64\n",
            " 627  625         float64\n",
            " 628  626         float64\n",
            " 629  627         float64\n",
            " 630  628         float64\n",
            " 631  629         float64\n",
            " 632  630         float64\n",
            " 633  631         float64\n",
            " 634  632         float64\n",
            " 635  633         float64\n",
            " 636  634         float64\n",
            " 637  635         float64\n",
            " 638  636         float64\n",
            " 639  637         float64\n",
            " 640  638         float64\n",
            " 641  639         float64\n",
            " 642  640         float64\n",
            " 643  641         float64\n",
            " 644  642         float64\n",
            " 645  643         float64\n",
            " 646  644         float64\n",
            " 647  645         float64\n",
            " 648  646         float64\n",
            " 649  647         float64\n",
            " 650  648         float64\n",
            " 651  649         float64\n",
            " 652  650         float64\n",
            " 653  651         float64\n",
            " 654  652         float64\n",
            " 655  653         float64\n",
            " 656  654         float64\n",
            " 657  655         float64\n",
            " 658  656         float64\n",
            " 659  657         float64\n",
            " 660  658         float64\n",
            " 661  659         float64\n",
            " 662  660         float64\n",
            " 663  661         float64\n",
            " 664  662         float64\n",
            " 665  663         float64\n",
            " 666  664         float64\n",
            " 667  665         float64\n",
            " 668  666         float64\n",
            " 669  667         float64\n",
            " 670  668         float64\n",
            " 671  669         float64\n",
            " 672  670         float64\n",
            " 673  671         float64\n",
            " 674  672         float64\n",
            " 675  673         float64\n",
            " 676  674         float64\n",
            " 677  675         float64\n",
            " 678  676         float64\n",
            " 679  677         float64\n",
            " 680  678         float64\n",
            " 681  679         float64\n",
            " 682  680         float64\n",
            " 683  681         float64\n",
            " 684  682         float64\n",
            " 685  683         float64\n",
            " 686  684         float64\n",
            " 687  685         float64\n",
            " 688  686         float64\n",
            " 689  687         float64\n",
            " 690  688         float64\n",
            " 691  689         float64\n",
            " 692  690         float64\n",
            " 693  691         float64\n",
            " 694  692         float64\n",
            " 695  693         float64\n",
            " 696  694         float64\n",
            " 697  695         float64\n",
            " 698  696         float64\n",
            " 699  697         float64\n",
            " 700  698         float64\n",
            " 701  699         float64\n",
            " 702  700         float64\n",
            " 703  701         float64\n",
            " 704  702         float64\n",
            " 705  703         float64\n",
            " 706  704         float64\n",
            " 707  705         float64\n",
            " 708  706         float64\n",
            " 709  707         float64\n",
            " 710  708         float64\n",
            " 711  709         float64\n",
            " 712  710         float64\n",
            " 713  711         float64\n",
            " 714  712         float64\n",
            " 715  713         float64\n",
            " 716  714         float64\n",
            " 717  715         float64\n",
            " 718  716         float64\n",
            " 719  717         float64\n",
            " 720  718         float64\n",
            " 721  719         float64\n",
            " 722  720         float64\n",
            " 723  721         float64\n",
            " 724  722         float64\n",
            " 725  723         float64\n",
            " 726  724         float64\n",
            " 727  725         float64\n",
            " 728  726         float64\n",
            " 729  727         float64\n",
            " 730  728         float64\n",
            " 731  729         float64\n",
            " 732  730         float64\n",
            " 733  731         float64\n",
            " 734  732         float64\n",
            " 735  733         float64\n",
            " 736  734         float64\n",
            " 737  735         float64\n",
            " 738  736         float64\n",
            " 739  737         float64\n",
            " 740  738         float64\n",
            " 741  739         float64\n",
            " 742  740         float64\n",
            " 743  741         float64\n",
            " 744  742         float64\n",
            " 745  743         float64\n",
            " 746  744         float64\n",
            " 747  745         float64\n",
            " 748  746         float64\n",
            " 749  747         float64\n",
            " 750  748         float64\n",
            " 751  749         float64\n",
            " 752  750         float64\n",
            " 753  751         float64\n",
            " 754  752         float64\n",
            " 755  753         float64\n",
            " 756  754         float64\n",
            " 757  755         float64\n",
            " 758  756         float64\n",
            " 759  757         float64\n",
            " 760  758         float64\n",
            " 761  759         float64\n",
            " 762  760         float64\n",
            " 763  761         float64\n",
            " 764  762         float64\n",
            " 765  763         float64\n",
            " 766  764         float64\n",
            " 767  765         float64\n",
            " 768  766         float64\n",
            " 769  767         float64\n",
            " 770  768         float64\n",
            " 771  769         float64\n",
            " 772  770         float64\n",
            " 773  771         float64\n",
            " 774  772         float64\n",
            " 775  773         float64\n",
            " 776  774         float64\n",
            " 777  775         float64\n",
            " 778  776         float64\n",
            " 779  777         float64\n",
            " 780  778         float64\n",
            " 781  779         float64\n",
            " 782  780         float64\n",
            " 783  781         float64\n",
            " 784  782         float64\n",
            " 785  783         float64\n",
            " 786  784         float64\n",
            "dtypes: float64(440), int64(344), object(3)\n",
            "memory usage: 366.2+ MB\n"
          ]
        }
      ],
      "source": [
        "# DataFrame feature's Datatype\n",
        "data.info(verbose=True)"
      ]
    },
    {
      "cell_type": "markdown",
      "metadata": {
        "id": "iyoZlPm1e0wG"
      },
      "source": [
        "The code snippet offers a overview of the DataFrame, unveiling vital aspects such as data types, non-null value counts, and memory usage. This comprehensive information sheds light on the dataset's composition, aiding in understanding its structure, data types, and identifying potential missing values. Such insights are crucial for data exploration, enabling analysts to grasp the dataset's characteristics and make informed decisions regarding data manipulation and analysis.\n"
      ]
    },
    {
      "cell_type": "markdown",
      "metadata": {
        "id": "bsNOP6Cye8cA"
      },
      "source": [
        "**PRINTING THE NUMBER OF UNIQUE FONTS AND UNIQUE CHARACTERS**"
      ]
    },
    {
      "cell_type": "code",
      "execution_count": null,
      "metadata": {
        "colab": {
          "base_uri": "https://localhost:8080/"
        },
        "id": "UUaji9bKPe-Z",
        "outputId": "ea8ec4a1-9f0f-4bf7-f845-d13acb702e22"
      },
      "outputs": [
        {
          "name": "stdout",
          "output_type": "stream",
          "text": [
            "Number of unique fonts present in the Dataset: 712\n",
            "Number of unique character present in the Dataset: 87\n"
          ]
        }
      ],
      "source": [
        "# Number of Fonts present in the Dataframe\n",
        "print(f\"Number of unique fonts present in the Dataset: {len(data.font_name.unique())}\")\n",
        "# Number of unique characters present in the Dataframe\n",
        "print(f\"Number of unique character present in the Dataset: {len(data.label.unique())}\")"
      ]
    },
    {
      "cell_type": "markdown",
      "metadata": {
        "id": "mIo1rvM5fCNf"
      },
      "source": [
        "The code uses the unique() method from Pandas to get the unique values in the font_name and label columns of the DataFrame, and then calculates the length of these unique values using the len() function. Finally, the calculated counts are printed with appropriate messages using formatted strings.\n",
        "\n",
        "This code snippet may be part of a larger data analysis or data processing task, where the data DataFrame contains information about fonts and characters, and the goal is to determine the number of unique fonts and unique characters in the dataset. The results of these calculations will be displayed in the printed messages."
      ]
    },
    {
      "cell_type": "code",
      "execution_count": null,
      "metadata": {
        "id": "eVc6ap1tPw1Q"
      },
      "outputs": [],
      "source": [
        "# Spliting the Labels and the features\n",
        "\n",
        "X = data.drop(columns=['font_name','glyph_name','label']).values\n",
        "y = data[['label']].values\n",
        "del data"
      ]
    },
    {
      "cell_type": "markdown",
      "metadata": {
        "id": "qRFI6DJqfTyl"
      },
      "source": [
        "The X array is created by dropping the columns 'font_name', 'glyph_name', and 'label' from the data DataFrame using the drop() method, and then extracting the values using the values attribute. This is likely done to extract the features or independent variables from the DataFrame, which will be used for further analysis or modeling.\n",
        "\n",
        "The y array is created by extracting only the 'label' column from the data DataFrame using double square brackets [['label']], which returns a DataFrame with a single column. The values attribute is then used to extract the values from this single column, resulting in a one-dimensional array containing the labels or dependent variable values."
      ]
    },
    {
      "cell_type": "markdown",
      "metadata": {
        "id": "KXrc-QG8fW6V"
      },
      "source": [
        "Finally, the data DataFrame is deleted using the del statement, which may be done to free up memory or remove unnecessary data from the memory after extracting the features and labels into separate arrays."
      ]
    },
    {
      "cell_type": "code",
      "execution_count": null,
      "metadata": {
        "colab": {
          "base_uri": "https://localhost:8080/"
        },
        "id": "6VTL4jAqP3-f",
        "outputId": "e8082ce2-dc21-4766-b47d-fc620c4c66f1"
      },
      "outputs": [
        {
          "data": {
            "text/plain": [
              "dtype('uint8')"
            ]
          },
          "execution_count": 41,
          "metadata": {},
          "output_type": "execute_result"
        }
      ],
      "source": [
        "#converting the data type of 'x'\n",
        "X = X.astype('u1')\n",
        "X.dtype"
      ]
    },
    {
      "cell_type": "markdown",
      "metadata": {
        "id": "hiYqME6HftWS"
      },
      "source": [
        "The astype('u1') function call is used to convert the data type of the X array to uint8, which is an unsigned integer type that can store values from 0 to 255. This type of conversion may be done for various reasons, such as reducing memory usage, ensuring compatibility with certain algorithms or libraries that require uint8 data, or converting data to a specific data type required for a particular analysis or task."
      ]
    },
    {
      "cell_type": "markdown",
      "metadata": {
        "id": "h4MFA0TCfuIz"
      },
      "source": [
        "After the data type conversion, the dtype attribute is used to check the data type of the X array, which should now be uint8. This can be useful for verifying that the data type conversion was successful and ensuring that the X array has the desired data type for subsequent analysis or modeling."
      ]
    },
    {
      "cell_type": "code",
      "execution_count": null,
      "metadata": {
        "colab": {
          "base_uri": "https://localhost:8080/"
        },
        "id": "7DAtu9dFP98t",
        "outputId": "99623638-9620-4802-bf6a-8365a3e9649f"
      },
      "outputs": [
        {
          "data": {
            "text/plain": [
              "((60919, 784), (60919, 1))"
            ]
          },
          "execution_count": 42,
          "metadata": {},
          "output_type": "execute_result"
        }
      ],
      "source": [
        "#checking and displaying the shapes of the X and y\n",
        "X.shape, y.shape\n"
      ]
    },
    {
      "cell_type": "markdown",
      "metadata": {
        "id": "l56xzcxJf8dY"
      },
      "source": [
        "The X.shape and y.shape are used to obtain the shapes (i.e., dimensions) of the X and y arrays, respectively. The shape attribute in NumPy or Pandas returns a tuple representing the dimensions of an array, with the first element representing the number of rows (samples) and the second element representing the number of columns (features or labels)."
      ]
    },
    {
      "cell_type": "markdown",
      "metadata": {
        "id": "k52xq7Gpf9MR"
      },
      "source": [
        "This code is likely used to verify the dimensions of the X and y arrays after they have been extracted from the data DataFrame and processed further, such as changing data types or performing additional data manipulation. The results of these operations can affect the shapes of the arrays, and checking the shapes can be useful for ensuring that the arrays have the expected dimensions before proceeding with further analysis or modeling."
      ]
    },
    {
      "cell_type": "markdown",
      "metadata": {
        "id": "nnX8xEzOgHz0"
      },
      "source": [
        "**VISUALIZING A SET OF IMAGES**"
      ]
    },
    {
      "cell_type": "code",
      "execution_count": null,
      "metadata": {
        "colab": {
          "base_uri": "https://localhost:8080/",
          "height": 730
        },
        "id": "5nYl-VE4QBLz",
        "outputId": "dd1f4957-8ff8-446b-cb36-2756901170f6"
      },
      "outputs": [
        {
          "data": {
            "image/png": "[encoded data removed]",
            "text/plain": [
              "<Figure size 900x900 with 9 Axes>"
            ]
          },
          "metadata": {},
          "output_type": "display_data"
        }
      ],
      "source": [
        "import matplotlib.pyplot as plt\n",
        "\n",
        "X_images = X.reshape(-1,28,28)\n",
        "fig,axs = plt.subplots(3,3,figsize=(9,9))\n",
        "for i in range(9):\n",
        "    r=i//3\n",
        "    c=i%3\n",
        "    axs[r][c].set_xticks([])\n",
        "    axs[r][c].set_yticks([])\n",
        "    axs[r][c].imshow(X_images[i])\n",
        "plt.show()\n",
        "del X_images"
      ]
    },
    {
      "cell_type": "markdown",
      "metadata": {
        "id": "g329SQ0KgL1W"
      },
      "source": [
        "The code starts by reshaping the X array into a 3D array with dimensions (-1, 28, 28), where -1 represents the number of images, and 28x28 represents the height and width of each image.\n",
        "\n",
        "Next, a 3x3 subplot grid is created using plt.subplots() function from Matplotlib with a figsize of (9,9), which specifies the size of the overall figure that will contain the subplots."
      ]
    },
    {
      "cell_type": "markdown",
      "metadata": {
        "id": "H_ZdVXLYgQ3c"
      },
      "source": [
        "Then, a loop iterates over the first 9 images in X_images, and for each image, a subplot is configured to have no x-axis and y-axis ticks using set_xticks([]) and set_yticks([]) methods. The image is displayed using imshow() method, which shows the image using a color map. Finally, the plt.show() function is called to display the entire figure with the subplots."
      ]
    },
    {
      "cell_type": "markdown",
      "metadata": {
        "id": "f3lLO5yYgRvb"
      },
      "source": [
        "After the visualization is displayed, the X_images array is deleted using the del statement, which may be done to free up memory or remove unnecessary data from the memory after the images have been visualized."
      ]
    },
    {
      "cell_type": "code",
      "execution_count": null,
      "metadata": {
        "id": "n4X5QyUHQFKK"
      },
      "outputs": [],
      "source": [
        "#performing a train-test split on X and y\n",
        "from sklearn.model_selection import train_test_split\n",
        "\n",
        "X_train, X_test, y_train, y_test = train_test_split(X, y, test_size=0.1)\n",
        "y_train = y_train.reshape((-1,))\n",
        "y_test = y_test.reshape((-1,))"
      ]
    },
    {
      "cell_type": "markdown",
      "metadata": {
        "id": "lRSKxp4rgjPW"
      },
      "source": [
        "The test_size parameter is set to 0.1, which indicates that 10% of the data will be used for testing, and the remaining 90% will be used for training. The resulting X_train, X_test, y_train, and y_test arrays represent the training and testing sets for the features and labels, respectively.\n",
        "\n",
        "After the split, the y_train and y_test arrays are reshaped using the reshape() method with -1 as the argument, which is used to infer the correct shape for the array based on the size of the array and the remaining dimensions. This may be done to ensure that the labels have the correct shape for further processing or modeling, as some machine learning algorithms may require labels to be in a specific shape or format."
      ]
    },
    {
      "cell_type": "code",
      "execution_count": null,
      "metadata": {
        "colab": {
          "base_uri": "https://localhost:8080/"
        },
        "id": "wrRYxf-DQI5Q",
        "outputId": "7bbf4967-9fd9-42d0-db32-14ef9c4d58c5"
      },
      "outputs": [
        {
          "data": {
            "text/plain": [
              "((54827,), (6092,))"
            ]
          },
          "execution_count": 45,
          "metadata": {},
          "output_type": "execute_result"
        }
      ],
      "source": [
        "X_train.shape, X_test.shape\n",
        "y_train.shape, y_test.shape"
      ]
    },
    {
      "cell_type": "markdown",
      "metadata": {
        "id": "ps3RxR6Cg-F2"
      },
      "source": [
        "**LABELBINARIZER**"
      ]
    },
    {
      "cell_type": "code",
      "execution_count": null,
      "metadata": {
        "colab": {
          "base_uri": "https://localhost:8080/"
        },
        "id": "NfHf1WOaQO8z",
        "outputId": "0323236f-704d-4b55-f81e-1765c9e1919f"
      },
      "outputs": [
        {
          "name": "stdout",
          "output_type": "stream",
          "text": [
            "Train labels dimension:\n",
            "(54827,)\n",
            "Test labels dimension:\n",
            "(6092,)\n"
          ]
        }
      ],
      "source": [
        "from sklearn.preprocessing import LabelBinarizer\n",
        "\n",
        "lb = LabelBinarizer()\n",
        "y_train_label = lb.fit_transform(y_train)\n",
        "y_test_label = lb.transform(y_test)\n",
        "print('Train labels dimension:');print(y_train.shape)\n",
        "print('Test labels dimension:');print(y_test.shape)"
      ]
    },
    {
      "cell_type": "markdown",
      "metadata": {
        "id": "xS1nvAqzhCKz"
      },
      "source": [
        "\n",
        "The **LabelBinarizer** class is a frequently utilized tool in machine learning for converting categorical labels into binary representations, often employed for tasks like one-hot encoding. In the provided code snippet, an instance of LabelBinarizer, denoted as lb, is instantiated. This instance is then utilized to both fit and transform the y_train array, converting its categorical labels into binary representations. The resulting binary labels are stored in the y_train_label variable. Similarly, the same lb instance is employed to transform the y_test array into binary labels, subsequently stored in the y_test_label variable. This process enables the conversion of categorical labels into a format suitable for various machine learning algorithms, facilitating the training and evaluation of models on categorical data."
      ]
    },
    {
      "cell_type": "code",
      "execution_count": null,
      "metadata": {
        "id": "uTJHKNJwQSmQ"
      },
      "outputs": [],
      "source": [
        "# Normalizing the Dataset for the Neural Network\n",
        "X_train, X_test = np.true_divide(X_train, 255), np.true_divide(X_test, 255)"
      ]
    },
    {
      "cell_type": "markdown",
      "metadata": {
        "id": "OFQbjLUjhNjl"
      },
      "source": [
        "The **np.true_divide()** function from the NumPy library plays a crucial role in the preprocessing of pixel data within the X_train and X_test arrays. Specifically, this function is employed to divide each pixel value by 255, which represents the maximum intensity value in an 8-bit grayscale image. By doing so, the operation effectively scales the pixel values from their original range of [0, 255] to a normalized range of [0, 1]. Normalizing pixel values in this manner is a common practice in image processing and machine learning tasks, as it ensures that all pixel intensities lie within the same range, thereby facilitating model convergence and enhancing the stability of training algorithms. This normalization step is particularly beneficial when working with neural networks and other machine learning models that are sensitive to the scale of input data.\n"
      ]
    },
    {
      "cell_type": "markdown",
      "metadata": {
        "id": "HH_ygw-mhSaQ"
      },
      "source": [
        "Normalizing the pixel values is a common preprocessing step in machine learning, especially for deep learning models like neural networks, as it helps to bring the pixel values to a similar scale and prevents any single feature from dominating the others. Normalization can also help with improving the convergence and performance of the neural network during training."
      ]
    },
    {
      "cell_type": "code",
      "execution_count": null,
      "metadata": {
        "id": "YCxi-Z-sQX2J"
      },
      "outputs": [],
      "source": [
        "# Reshape X_train and X_test for CNN\n",
        "X_train = X_train.reshape(-1,28,28,1).astype('float32')\n",
        "X_test = X_test.reshape(-1,28,28,1).astype('float32')"
      ]
    },
    {
      "cell_type": "markdown",
      "metadata": {
        "id": "WQMQxBX1hhUh"
      },
      "source": [
        "**CONCOLUTIONAL NEURAL NETWORK (CNN)**"
      ]
    },
    {
      "cell_type": "markdown",
      "metadata": {
        "id": "nVf2sWKdYuNR"
      },
      "source": [
        "\n",
        "In a convolutional neural network (CNN), which can consist of numerous layers, ranging from tens to even hundreds, each layer is trained to recognize distinct aspects of an image. The output of each layer, often referred to as a convolved feature map, serves as the input to the subsequent layer after filters are applied to each training image at different resolutions. These filters initially detect relatively simple features such as brightness and edges, gradually progressing to more complex patterns until they eventually identify specific objects within the image. Through this hierarchical arrangement of layers and filters, CNNs effectively extract and learn increasingly intricate features from input images, enabling them to achieve high levels of accuracy in tasks such as image classification and object recognition."
      ]
    },
    {
      "cell_type": "markdown",
      "metadata": {
        "id": "cq3sCSs3Yy9p"
      },
      "source": [
        "# Architecture of a Convolutional Neural Network (CNN)\n",
        "![CNN Architecture](https://miro.medium.com/v2/resize:fit:4800/format:webp/1*qsbsCVyu376kqdnNcdxmmw.png)\n",
        "\n",
        "Using the above diagram, we know that there are:\n",
        "\n",
        "1. Convolution layer where convolution happens.\n",
        "2. Pooling layer where the pooling process happens\n",
        "3. Normalization usually with the use of ReLu\n",
        "4. Fully Connected Layers\n",
        "\n",
        "\n",
        "The **Convolutional Layer (CONV)** stands as the fundamental building block within a CNN, tasked with executing convolutional operations crucial for feature extraction. At the heart of this layer lies the Kernel or Filter, responsible for performing convolution operations on the input image. As the kernel traverses the image, it applies horizontal and vertical changes dictated by the specified stride rate until the entire image is scanned. Although the kernel is typically smaller in size compared to the input image, it possesses depth. In cases where the input image comprises three channels (RGB), the kernel's height and width remain relatively modest, while its depth spans across all three channels, enabling it to capture features across the entire image spectrum.\n",
        "\n",
        "![](https://www.interviewbit.com/blog/wp-content/uploads/2022/06/Convolutional-Layer-1536x558.png)\n",
        "\n",
        "\n",
        "The **Pooling Layer (POOL)**serves a crucial role in CNNs by reducing dimensionality, thereby alleviating the computational burden associated with processing large volumes of data. This layer encompasses two main types of pooling: Maximum and Average pooling. In Maximum pooling, the layer returns the highest value from the region of the image covered by the kernel, effectively highlighting the most salient features within that region. Conversely, Average pooling computes the average of all values within the kernel-covered area, providing a smoothed representation of the underlying features. By selectively retaining essential information while discarding redundant details, the Pooling Layer facilitates efficient data processing and enhances the CNN's ability to extract meaningful features from input images.\n",
        "\n",
        "![](https://www.interviewbit.com/blog/wp-content/uploads/2022/06/Pooling-Layer-1536x719.png)\n",
        "\n",
        "**Dropout Layers:** A Dropout layer is a mask that eliminates some neurons' contributions to the subsequent layer while leaving all others unaltered. A Dropout layer can be applied to the input vector to cancel out part of its attributes; however, it can also be applied to a hidden layer to cancel out some hidden neurons. Dropout layers are essential in CNN training because they avoid overfitting of the training data. The first batch of training data has a disproportionately strong impact on learning if they are not present. As a result, learning of features found only in later samples or batches would be avoided.\n",
        "\n",
        "**Fully Connected Layer (FC**): The fully connected layer (FC) works with a flattened input, which means that each input is coupled to every neuron. After that, the flattened vector is sent via a few additional FC layers, where the mathematical functional operations are normally performed. The classification procedure gets started at this point. FC layers are frequently found near the end of CNN architectures if they are present.\n",
        "\n",
        "**Activation Function:** The activation function of the final fully connected layer is typically different from the others. The proper activation function must be chosen for each activity. The softmax function is an activation function used in the multiclass classification problem. It normalizes output real values from the last fully connected layer to target class probabilities, where each value ranges from 0 to 1 and all values add up to 1.\n",
        "\n",
        "Following is a table of the main activation functions with their graphs and formulas.\n",
        "\n",
        "![](https://miro.medium.com/v2/resize:fit:1400/1*p_hyqAtyI8pbt2kEl6siOQ.png)\n",
        "\n",
        "Here's a summary of above table:\n",
        "\n",
        "1. The table presents various activation functions used in neural networks, including their mathematical equations, plots, and derivatives.\n",
        "2. Linear functions like Identity and Binary Step have simple equations and derivatives, while non-linear functions like Logistic, TanH, and ELU have more complex, curved shapes and derivatives.\n",
        "3. Rectified Linear Units (ReLU and its variants) are piecewise linear functions that output the input directly for non-negative values and either 0 or a small value for negative inputs.\n",
        "4. The derivatives of the activation functions are crucial for backpropagation and training neural networks using gradient-based optimization methods.\n",
        "5. The choice of activation function depends on the specific problem and model architecture, as different functions have different properties and trade-offs in terms of non-linearity, sparsity, and smoothness."
      ]
    },
    {
      "cell_type": "markdown",
      "metadata": {
        "id": "j8NU3vx4ZPrJ"
      },
      "source": [
        "*  These layers carry out operations on the data in order to discover characteristics unique to the data. Convolution, activation or ReLU, and pooling are three of the most used layers.\n",
        "*  Convolution runs a series of convolutional filters through the input images, activating different aspects of the images with each filter.\n",
        "*  Rectified linear unit (ReLU), which maintains positive values while translating negative values to zero, enables quicker and more efficient training.\n",
        "*  Due to the fact that only the activated features are carried over to the following layer, this is frequently referred to as activation.\n",
        "By conducting nonlinear downsampling on the output, pooling reduces the number of parameters the network needs to learn.\n",
        "*  Over tens or hundreds of layers, these procedures are repeated, and each layer learns to"
      ]
    },
    {
      "cell_type": "code",
      "execution_count": null,
      "metadata": {
        "id": "Lu3b0-eWQa9C"
      },
      "outputs": [],
      "source": [
        "#Defining and compiling a convolutional neural network\n",
        "cnnmodel = Sequential()\n",
        "cnnmodel.add(Conv2D(32,(4,4),input_shape = (28,28,1),activation = 'relu'))\n",
        "cnnmodel.add(MaxPooling2D(pool_size=(2,2)))\n",
        "cnnmodel.add(Conv2D(64,(3,3),activation = 'relu'))\n",
        "cnnmodel.add(MaxPooling2D(pool_size=(2,2)))\n",
        "cnnmodel.add(Dropout(0.2))\n",
        "cnnmodel.add(Flatten())\n",
        "cnnmodel.add(Dense(128,activation='relu'))\n",
        "cnnmodel.add(Dense(y_train_label.shape[1], activation='softmax'))\n",
        "cnnmodel.compile(loss='categorical_crossentropy', optimizer='adam',metrics=['accuracy'])"
      ]
    },
    {
      "cell_type": "markdown",
      "metadata": {
        "id": "hmOOX-CUhkeF"
      },
      "source": [
        "Defines and compiles a CNN model for image classification, with the architecture consisting of convolutional, pooling, dropout, and fully connected layers, and using the Adam optimizer with categorical cross-entropy loss for training."
      ]
    },
    {
      "cell_type": "code",
      "execution_count": null,
      "metadata": {
        "colab": {
          "base_uri": "https://localhost:8080/"
        },
        "id": "gEGEeNPlQeWO",
        "outputId": "4cca9a95-a372-44eb-fbc6-88fc3dff64f1"
      },
      "outputs": [
        {
          "name": "stdout",
          "output_type": "stream",
          "text": [
            "Model: \"sequential_1\"\n",
            "_________________________________________________________________\n",
            " Layer (type)                Output Shape              Param #   \n",
            "=================================================================\n",
            " conv2d_2 (Conv2D)           (None, 25, 25, 32)        544       \n",
            "                                                                 \n",
            " max_pooling2d_2 (MaxPooling  (None, 12, 12, 32)       0         \n",
            " 2D)                                                             \n",
            "                                                                 \n",
            " conv2d_3 (Conv2D)           (None, 10, 10, 64)        18496     \n",
            "                                                                 \n",
            " max_pooling2d_3 (MaxPooling  (None, 5, 5, 64)         0         \n",
            " 2D)                                                             \n",
            "                                                                 \n",
            " dropout_1 (Dropout)         (None, 5, 5, 64)          0         \n",
            "                                                                 \n",
            " flatten_1 (Flatten)         (None, 1600)              0         \n",
            "                                                                 \n",
            " dense_2 (Dense)             (None, 128)               204928    \n",
            "                                                                 \n",
            " dense_3 (Dense)             (None, 87)                11223     \n",
            "                                                                 \n",
            "=================================================================\n",
            "Total params: 235,191\n",
            "Trainable params: 235,191\n",
            "Non-trainable params: 0\n",
            "_________________________________________________________________\n"
          ]
        }
      ],
      "source": [
        "cnnmodel.summary()"
      ]
    },
    {
      "cell_type": "markdown",
      "metadata": {
        "id": "iS13iSPKhzd0"
      },
      "source": [
        "The purpose of this code snippet is to invoke the summary() method on a pre-defined CNN model (cnnmodel), which in turn presents a concise overview of the model's architecture. This summary encapsulates crucial details such as the number of parameters within each layer, the input and output shapes of every layer, and the overall count of parameters across the entire model. By offering insights into the model's structure and size, this summary aids in comprehending the complexity and capacity of the CNN model. Additionally, it assists in identifying potential issues like overfitting or underfitting, thereby facilitating effective model evaluation and optimization."
      ]
    },
    {
      "cell_type": "markdown",
      "metadata": {
        "id": "1gfX2V7qiE2-"
      },
      "source": [
        "**FITTING THE PRE-DEFINED CNN MODEL**"
      ]
    },
    {
      "cell_type": "code",
      "execution_count": null,
      "metadata": {
        "colab": {
          "background_save": true,
          "base_uri": "https://localhost:8080/"
        },
        "id": "gkaSGi5wQhi_",
        "outputId": "2bebfca1-8c04-4f2a-ca3f-7b493002bd7f"
      },
      "outputs": [
        {
          "name": "stdout",
          "output_type": "stream",
          "text": [
            "Epoch 1/50\n",
            "1401/1401 [==============================] - 136s 95ms/step - loss: 0.6738 - accuracy: 0.8152 - val_loss: 0.3873 - val_accuracy: 0.8797\n",
            "Epoch 2/50\n",
            "1401/1401 [==============================] - 132s 94ms/step - loss: 0.3113 - accuracy: 0.9015 - val_loss: 0.2625 - val_accuracy: 0.9179\n",
            "Epoch 3/50\n",
            "1401/1401 [==============================] - 129s 92ms/step - loss: 0.2403 - accuracy: 0.9242 - val_loss: 0.2273 - val_accuracy: 0.9294\n",
            "Epoch 4/50\n",
            "1401/1401 [==============================] - 131s 93ms/step - loss: 0.2057 - accuracy: 0.9340 - val_loss: 0.2029 - val_accuracy: 0.9376\n",
            "Epoch 5/50\n",
            "1401/1401 [==============================] - 130s 93ms/step - loss: 0.1808 - accuracy: 0.9406 - val_loss: 0.1884 - val_accuracy: 0.9423\n",
            "Epoch 6/50\n",
            "1401/1401 [==============================] - 131s 93ms/step - loss: 0.1633 - accuracy: 0.9457 - val_loss: 0.1784 - val_accuracy: 0.9438\n",
            "Epoch 7/50\n",
            "1401/1401 [==============================] - 129s 92ms/step - loss: 0.1494 - accuracy: 0.9490 - val_loss: 0.1794 - val_accuracy: 0.9453\n",
            "Epoch 8/50\n",
            "1401/1401 [==============================] - 129s 92ms/step - loss: 0.1394 - accuracy: 0.9513 - val_loss: 0.1751 - val_accuracy: 0.9472\n",
            "Epoch 9/50\n",
            "1401/1401 [==============================] - 130s 93ms/step - loss: 0.1277 - accuracy: 0.9557 - val_loss: 0.1689 - val_accuracy: 0.9479\n",
            "Epoch 10/50\n",
            "1401/1401 [==============================] - 130s 93ms/step - loss: 0.1207 - accuracy: 0.9576 - val_loss: 0.1716 - val_accuracy: 0.9496\n",
            "Epoch 11/50\n",
            "1401/1401 [==============================] - 131s 93ms/step - loss: 0.1132 - accuracy: 0.9601 - val_loss: 0.1777 - val_accuracy: 0.9452\n",
            "Epoch 12/50\n",
            "1401/1401 [==============================] - 130s 93ms/step - loss: 0.1066 - accuracy: 0.9618 - val_loss: 0.1660 - val_accuracy: 0.9504\n",
            "Epoch 13/50\n",
            "1401/1401 [==============================] - 131s 94ms/step - loss: 0.1022 - accuracy: 0.9633 - val_loss: 0.1761 - val_accuracy: 0.9488\n",
            "Epoch 14/50\n",
            "1401/1401 [==============================] - 131s 94ms/step - loss: 0.0963 - accuracy: 0.9653 - val_loss: 0.1673 - val_accuracy: 0.9511\n",
            "Epoch 15/50\n",
            "1401/1401 [==============================] - 132s 94ms/step - loss: 0.0910 - accuracy: 0.9667 - val_loss: 0.1903 - val_accuracy: 0.9466\n",
            "Epoch 16/50\n",
            "1401/1401 [==============================] - 129s 92ms/step - loss: 0.0890 - accuracy: 0.9674 - val_loss: 0.1677 - val_accuracy: 0.9528\n",
            "Epoch 17/50\n",
            "1401/1401 [==============================] - 130s 93ms/step - loss: 0.0859 - accuracy: 0.9681 - val_loss: 0.1760 - val_accuracy: 0.9519\n",
            "Epoch 18/50\n",
            "1401/1401 [==============================] - 128s 91ms/step - loss: 0.0816 - accuracy: 0.9698 - val_loss: 0.1776 - val_accuracy: 0.9527\n",
            "Epoch 19/50\n",
            "1401/1401 [==============================] - 131s 94ms/step - loss: 0.0797 - accuracy: 0.9704 - val_loss: 0.1743 - val_accuracy: 0.9533\n",
            "Epoch 20/50\n",
            "1401/1401 [==============================] - 129s 92ms/step - loss: 0.0764 - accuracy: 0.9711 - val_loss: 0.1809 - val_accuracy: 0.9544\n",
            "Epoch 21/50\n",
            "1401/1401 [==============================] - 128s 91ms/step - loss: 0.0753 - accuracy: 0.9715 - val_loss: 0.1811 - val_accuracy: 0.9526\n",
            "Epoch 22/50\n",
            "1401/1401 [==============================] - 130s 93ms/step - loss: 0.0704 - accuracy: 0.9734 - val_loss: 0.1851 - val_accuracy: 0.9531\n",
            "Epoch 23/50\n",
            "1401/1401 [==============================] - 125s 89ms/step - loss: 0.0698 - accuracy: 0.9735 - val_loss: 0.1989 - val_accuracy: 0.9493\n",
            "Epoch 24/50\n",
            "1401/1401 [==============================] - 119s 85ms/step - loss: 0.0692 - accuracy: 0.9736 - val_loss: 0.1866 - val_accuracy: 0.9541\n",
            "Epoch 25/50\n",
            "1401/1401 [==============================] - 119s 85ms/step - loss: 0.0670 - accuracy: 0.9749 - val_loss: 0.1966 - val_accuracy: 0.9543\n",
            "Epoch 26/50\n",
            "1401/1401 [==============================] - 120s 86ms/step - loss: 0.0649 - accuracy: 0.9754 - val_loss: 0.1958 - val_accuracy: 0.9535\n",
            "Epoch 27/50\n",
            "1401/1401 [==============================] - 119s 85ms/step - loss: 0.0626 - accuracy: 0.9762 - val_loss: 0.1965 - val_accuracy: 0.9525\n",
            "Epoch 28/50\n",
            "1401/1401 [==============================] - 120s 85ms/step - loss: 0.0619 - accuracy: 0.9764 - val_loss: 0.1957 - val_accuracy: 0.9535\n",
            "Epoch 29/50\n",
            "1401/1401 [==============================] - 120s 86ms/step - loss: 0.0609 - accuracy: 0.9770 - val_loss: 0.2003 - val_accuracy: 0.9539\n",
            "Epoch 30/50\n",
            "1401/1401 [==============================] - 118s 84ms/step - loss: 0.0594 - accuracy: 0.9772 - val_loss: 0.2028 - val_accuracy: 0.9537\n",
            "Epoch 31/50\n",
            "1401/1401 [==============================] - 120s 86ms/step - loss: 0.0591 - accuracy: 0.9778 - val_loss: 0.2011 - val_accuracy: 0.9537\n",
            "Epoch 32/50\n",
            "1401/1401 [==============================] - 118s 84ms/step - loss: 0.0567 - accuracy: 0.9784 - val_loss: 0.2122 - val_accuracy: 0.9531\n",
            "Epoch 33/50\n",
            "1401/1401 [==============================] - 120s 85ms/step - loss: 0.0562 - accuracy: 0.9787 - val_loss: 0.2155 - val_accuracy: 0.9531\n",
            "Epoch 34/50\n",
            "1401/1401 [==============================] - 119s 85ms/step - loss: 0.0559 - accuracy: 0.9790 - val_loss: 0.2122 - val_accuracy: 0.9542\n",
            "Epoch 35/50\n",
            "1401/1401 [==============================] - 120s 85ms/step - loss: 0.0541 - accuracy: 0.9791 - val_loss: 0.2209 - val_accuracy: 0.9528\n",
            "Epoch 36/50\n",
            "1401/1401 [==============================] - 118s 84ms/step - loss: 0.0542 - accuracy: 0.9792 - val_loss: 0.2107 - val_accuracy: 0.9539\n",
            "Epoch 37/50\n",
            "1401/1401 [==============================] - 119s 85ms/step - loss: 0.0536 - accuracy: 0.9795 - val_loss: 0.2312 - val_accuracy: 0.9529\n",
            "Epoch 38/50\n",
            "1401/1401 [==============================] - 118s 85ms/step - loss: 0.0510 - accuracy: 0.9805 - val_loss: 0.2197 - val_accuracy: 0.9548\n",
            "Epoch 39/50\n",
            "1401/1401 [==============================] - 118s 85ms/step - loss: 0.0510 - accuracy: 0.9804 - val_loss: 0.2199 - val_accuracy: 0.9560\n",
            "Epoch 40/50\n",
            "1401/1401 [==============================] - 118s 85ms/step - loss: 0.0492 - accuracy: 0.9810 - val_loss: 0.2344 - val_accuracy: 0.9554\n",
            "Epoch 41/50\n",
            "1401/1401 [==============================] - 120s 85ms/step - loss: 0.0507 - accuracy: 0.9806 - val_loss: 0.2371 - val_accuracy: 0.9553\n",
            "Epoch 42/50\n",
            "1401/1401 [==============================] - 118s 84ms/step - loss: 0.0489 - accuracy: 0.9814 - val_loss: 0.2219 - val_accuracy: 0.9542\n",
            "Epoch 43/50\n",
            "1401/1401 [==============================] - 121s 86ms/step - loss: 0.0482 - accuracy: 0.9815 - val_loss: 0.2272 - val_accuracy: 0.9540\n",
            "Epoch 44/50\n",
            " 338/1401 [======>.......................] - ETA: 1:28 - loss: 0.0458 - accuracy: 0.9826"
          ]
        }
      ],
      "source": [
        "result = cnnmodel.fit(X_train, y_train_label, validation_split=0.1, epochs=50, batch_size=100, verbose=1)"
      ]
    },
    {
      "cell_type": "markdown",
      "metadata": {
        "id": "dLoF3iJliLe4"
      },
      "source": [
        "The model undergoes training with a validation split parameter set to 0.1, signifying that 10% of the training data is allocated for validation purposes during the training phase. The training process spans across 50 epochs, each comprising iterations over batches of 100 data samples. The training progress is visually monitored as the verbose mode is enabled, set to 1, which entails that progress updates along with loss and accuracy metrics will be displayed during training. The result variable is anticipated to retain the training metrics and statistical data, facilitating in-depth analysis and evaluation of the model's performance post-training. This comprehensive approach to training configuration and monitoring allows for thorough assessment and refinement of the CNN model's efficacy and generalization capabilities."
      ]
    },
    {
      "cell_type": "markdown",
      "metadata": {
        "id": "Oy2bI0h_iTBF"
      },
      "source": [
        "**EVALUATING THE PRE-TRAINED CNN MODEL**"
      ]
    },
    {
      "cell_type": "code",
      "execution_count": null,
      "metadata": {
        "colab": {
          "base_uri": "https://localhost:8080/"
        },
        "id": "cwNGk4WuQntw",
        "outputId": "54857e7c-7519-4740-8e9a-10744010267f"
      },
      "outputs": [
        {
          "name": "stdout",
          "output_type": "stream",
          "text": [
            "191/191 [==============================] - 2s 9ms/step - loss: 0.2893 - accuracy: 0.9473\n",
            "Test results - Accuracy: 0.9473079442977905%\n"
          ]
        }
      ],
      "source": [
        "test_results = cnnmodel.evaluate(X_test, y_test_label, verbose=1)\n",
        "print(f'Test results - Accuracy: {test_results[1]}%')"
      ]
    },
    {
      "cell_type": "markdown",
      "metadata": {
        "id": "VDzfV13LiYNW"
      },
      "source": [
        "The test results, including the accuracy of the model, are stored in the test_results variable. The accuracy of the model on the test data is then printed using print(). This code is likely used to assess the performance of the trained model on unseen data and obtain the accuracy as an evaluation metric."
      ]
    },
    {
      "cell_type": "code",
      "execution_count": null,
      "metadata": {
        "colab": {
          "base_uri": "https://localhost:8080/",
          "height": 863
        },
        "id": "99QNI35qQwjk",
        "outputId": "6ca50b57-5854-4cf3-9d29-f4ef1fdaaa75"
      },
      "outputs": [
        {
          "data": {
            "text/plain": [
              "<Axes: >"
            ]
          },
          "execution_count": 53,
          "metadata": {},
          "output_type": "execute_result"
        },
        {
          "data": {
            "image/png": "[encoded data removed]",
            "text/plain": [
              "<Figure size 640x480 with 1 Axes>"
            ]
          },
          "metadata": {},
          "output_type": "display_data"
        },
        {
          "data": {
            "image/png": "[encoded data removed]",
            "text/plain": [
              "<Figure size 640x480 with 1 Axes>"
            ]
          },
          "metadata": {},
          "output_type": "display_data"
        }
      ],
      "source": [
        "#visualizing the training progress\n",
        "#performance of the CNN model during training.\n",
        "his = pd.DataFrame(result.history)\n",
        "his.loc[:, ['accuracy', 'val_accuracy']].plot()\n",
        "his.loc[:, ['loss', 'val_loss']].plot()"
      ]
    },
    {
      "cell_type": "markdown",
      "metadata": {
        "id": "Cb_0RRgQikWm"
      },
      "source": [
        "The training metrics, comprising accuracy and loss values, are stored within a Pandas DataFrame accessed via result.history. These metrics are then visualized using Matplotlib, where one plot displays both training and validation accuracy, while another plot showcases training and validation loss. By plotting these metrics against epochs, the code enables a visual examination of the model's performance evolution, aiding in understanding the training progress, convergence behavior, and detecting any indications of overfitting or underfitting.\n"
      ]
    },
    {
      "cell_type": "markdown",
      "metadata": {
        "id": "LcEhOuGqT3vh"
      },
      "source": [
        "**CONCLUSION**"
      ]
    },
    {
      "cell_type": "markdown",
      "metadata": {
        "id": "CK1BZ1wIj5hy"
      },
      "source": [
        "Achieving a 95% accuracy after training a convolutional neural network (CNN) model on the dataset is indicative of its effectiveness in learning and recognizing patterns within the data. The CNN architecture, known for its ability to capture spatial hierarchies in images, likely played a crucial role in this performance boost. By employing convolutional layers to extract features and pooling layers to reduce dimensionality, the model can effectively learn relevant representations from the input images. Additionally, techniques such as dropout regularization may have helped prevent overfitting, contributing to the model's generalization performance. Overall, the significant improvement in accuracy underscores the CNN's capability to discern intricate patterns and highlights its suitability for image classification tasks."
      ]
    },
    {
      "cell_type": "markdown",
      "metadata": {
        "id": "1E-JNLxmvI_n"
      },
      "source": [
        "**CITATIONS**"
      ]
    },
    {
      "cell_type": "markdown",
      "metadata": {
        "id": "uChaM996vLcA"
      },
      "source": [
        "\n",
        "\n",
        "\n",
        "*   https://scikit-learn.org/stable/modules/generated/sklearn.preprocessing.LabelBinarizer.html\n",
        "* https://towardsdatascience.com/convolutional-neural-networks-explained-9cc5188c4939\n",
        "* https://en.wikipedia.org/wiki/Convolutional_neural_network\n",
        "* https://www.geeksforgeeks.org/cnn-image-data-pre-processing-with-generators/\n",
        "* https://en.wikipedia.org/wiki/Neural_network\n",
        "\n",
        "\n",
        "\n",
        "\n",
        "\n"
      ]
    },
    {
      "cell_type": "markdown",
      "metadata": {
        "id": "nNWc-7ukndwP"
      },
      "source": [
        "**LICENSING**"
      ]
    },
    {
      "cell_type": "markdown",
      "metadata": {
        "id": "f0PvXSpBnfQn"
      },
      "source": [
        "2024 Copyright Sarthak Shailesh Somvanshi\n",
        "\n",
        "The right to deal in the software without restriction, including without limitation the right to use, copy, modify, merge, publish, distribute, sublicense, and/or sell copies of the software, is hereby granted, free of charge, to any person obtaining a copy of this software and associated documentation files (the \"Software\"), subject to the following requirements:\n",
        "\n",
        "All copies or substantial parts of the Software must carry the aforementioned copyright notice and this permission notice.\n",
        "\n",
        "THE SOFTWARE IS PROVIDED \"AS IS\", WITHOUT WARRANTY OF ANY KIND, EXPRESS OR IMPLIED, INCLUDING BUT NOT LIMITED TO THE WARRANTIES OF MERCHANTABILITY, FITNESS FOR A PARTICULAR PURPOSE AND NONINFRINGEMENT. IN NO EVENT SHALL THE AUTHORS OR COPYRIGHT HOLDERS BE LIABLE FOR ANY CLAIM, DAMAGES OR OTHER LIABILITY, WHETHER IN AN ACTION OF CONTRACT, TORT OR OTHERWISE, ARISING FROM, OUT OF OR IN CONNECTION WITH THE SOFTWARE OR THE USE OR OTHER DEALINGS IN THE SOFTWARE."
      ]
    }
  ],
  "metadata": {
    "colab": {
      "provenance": []
    },
    "kernelspec": {
      "display_name": "Python 3",
      "name": "python3"
    },
    "language_info": {
      "name": "python"
    }
  },
  "nbformat": 4,
  "nbformat_minor": 0
}